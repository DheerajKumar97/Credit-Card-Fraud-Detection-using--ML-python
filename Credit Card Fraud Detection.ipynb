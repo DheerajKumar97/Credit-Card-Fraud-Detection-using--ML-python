{
 "cells": [
  {
   "cell_type": "markdown",
   "metadata": {},
   "source": [
    "# Credit Card Fraud Detection using python\n",
    "\n",
    "Information about data set\n",
    "\n",
    "The datasets contains transactions made by credit cards in September 2013 by european cardholders. This dataset presents transactions that occurred in two days, where we have 492 frauds out of 284,807 transactions. The dataset is highly unbalanced, the positive class (frauds) account for 0.172% of all transactions.\n",
    "\n",
    "It contains only numerical input variables which are the result of a PCA transformation. Unfortunately, due to confidentiality issues, we cannot provide the original features and more background information about the data. Features V1, V2, ... V28 are the principal components obtained with PCA, the only features which have not been transformed with PCA are 'Time' and 'Amount'. Feature 'Time' contains the seconds elapsed between each transaction and the first transaction in the dataset. The feature 'Amount' is the transaction Amount, this feature can be used for example-dependant cost-senstive learning. Feature 'Class' is the response variable and it takes value 1 in case of fraud and 0 otherwise."
   ]
  },
  {
   "cell_type": "code",
   "execution_count": 1,
   "metadata": {},
   "outputs": [],
   "source": [
    "import pandas as pd\n",
    "import numpy as np\n",
    "import seaborn as sns\n",
    "import matplotlib.pyplot as plt\n",
    "\n",
    "from sklearn.neighbors import LocalOutlierFactor"
   ]
  },
  {
   "cell_type": "code",
   "execution_count": 2,
   "metadata": {},
   "outputs": [
    {
     "data": {
      "text/html": [
       "<div>\n",
       "<style scoped>\n",
       "    .dataframe tbody tr th:only-of-type {\n",
       "        vertical-align: middle;\n",
       "    }\n",
       "\n",
       "    .dataframe tbody tr th {\n",
       "        vertical-align: top;\n",
       "    }\n",
       "\n",
       "    .dataframe thead th {\n",
       "        text-align: right;\n",
       "    }\n",
       "</style>\n",
       "<table border=\"1\" class=\"dataframe\">\n",
       "  <thead>\n",
       "    <tr style=\"text-align: right;\">\n",
       "      <th></th>\n",
       "      <th>Time</th>\n",
       "      <th>V1</th>\n",
       "      <th>V2</th>\n",
       "      <th>V3</th>\n",
       "      <th>V4</th>\n",
       "      <th>V5</th>\n",
       "      <th>V6</th>\n",
       "      <th>V7</th>\n",
       "      <th>V8</th>\n",
       "      <th>V9</th>\n",
       "      <th>...</th>\n",
       "      <th>V21</th>\n",
       "      <th>V22</th>\n",
       "      <th>V23</th>\n",
       "      <th>V24</th>\n",
       "      <th>V25</th>\n",
       "      <th>V26</th>\n",
       "      <th>V27</th>\n",
       "      <th>V28</th>\n",
       "      <th>Amount</th>\n",
       "      <th>Class</th>\n",
       "    </tr>\n",
       "  </thead>\n",
       "  <tbody>\n",
       "    <tr>\n",
       "      <td>0</td>\n",
       "      <td>0.0</td>\n",
       "      <td>-1.359807</td>\n",
       "      <td>-0.072781</td>\n",
       "      <td>2.536347</td>\n",
       "      <td>1.378155</td>\n",
       "      <td>-0.338321</td>\n",
       "      <td>0.462388</td>\n",
       "      <td>0.239599</td>\n",
       "      <td>0.098698</td>\n",
       "      <td>0.363787</td>\n",
       "      <td>...</td>\n",
       "      <td>-0.018307</td>\n",
       "      <td>0.277838</td>\n",
       "      <td>-0.110474</td>\n",
       "      <td>0.066928</td>\n",
       "      <td>0.128539</td>\n",
       "      <td>-0.189115</td>\n",
       "      <td>0.133558</td>\n",
       "      <td>-0.021053</td>\n",
       "      <td>149.62</td>\n",
       "      <td>0</td>\n",
       "    </tr>\n",
       "    <tr>\n",
       "      <td>1</td>\n",
       "      <td>0.0</td>\n",
       "      <td>1.191857</td>\n",
       "      <td>0.266151</td>\n",
       "      <td>0.166480</td>\n",
       "      <td>0.448154</td>\n",
       "      <td>0.060018</td>\n",
       "      <td>-0.082361</td>\n",
       "      <td>-0.078803</td>\n",
       "      <td>0.085102</td>\n",
       "      <td>-0.255425</td>\n",
       "      <td>...</td>\n",
       "      <td>-0.225775</td>\n",
       "      <td>-0.638672</td>\n",
       "      <td>0.101288</td>\n",
       "      <td>-0.339846</td>\n",
       "      <td>0.167170</td>\n",
       "      <td>0.125895</td>\n",
       "      <td>-0.008983</td>\n",
       "      <td>0.014724</td>\n",
       "      <td>2.69</td>\n",
       "      <td>0</td>\n",
       "    </tr>\n",
       "    <tr>\n",
       "      <td>2</td>\n",
       "      <td>1.0</td>\n",
       "      <td>-1.358354</td>\n",
       "      <td>-1.340163</td>\n",
       "      <td>1.773209</td>\n",
       "      <td>0.379780</td>\n",
       "      <td>-0.503198</td>\n",
       "      <td>1.800499</td>\n",
       "      <td>0.791461</td>\n",
       "      <td>0.247676</td>\n",
       "      <td>-1.514654</td>\n",
       "      <td>...</td>\n",
       "      <td>0.247998</td>\n",
       "      <td>0.771679</td>\n",
       "      <td>0.909412</td>\n",
       "      <td>-0.689281</td>\n",
       "      <td>-0.327642</td>\n",
       "      <td>-0.139097</td>\n",
       "      <td>-0.055353</td>\n",
       "      <td>-0.059752</td>\n",
       "      <td>378.66</td>\n",
       "      <td>0</td>\n",
       "    </tr>\n",
       "    <tr>\n",
       "      <td>3</td>\n",
       "      <td>1.0</td>\n",
       "      <td>-0.966272</td>\n",
       "      <td>-0.185226</td>\n",
       "      <td>1.792993</td>\n",
       "      <td>-0.863291</td>\n",
       "      <td>-0.010309</td>\n",
       "      <td>1.247203</td>\n",
       "      <td>0.237609</td>\n",
       "      <td>0.377436</td>\n",
       "      <td>-1.387024</td>\n",
       "      <td>...</td>\n",
       "      <td>-0.108300</td>\n",
       "      <td>0.005274</td>\n",
       "      <td>-0.190321</td>\n",
       "      <td>-1.175575</td>\n",
       "      <td>0.647376</td>\n",
       "      <td>-0.221929</td>\n",
       "      <td>0.062723</td>\n",
       "      <td>0.061458</td>\n",
       "      <td>123.50</td>\n",
       "      <td>0</td>\n",
       "    </tr>\n",
       "    <tr>\n",
       "      <td>4</td>\n",
       "      <td>2.0</td>\n",
       "      <td>-1.158233</td>\n",
       "      <td>0.877737</td>\n",
       "      <td>1.548718</td>\n",
       "      <td>0.403034</td>\n",
       "      <td>-0.407193</td>\n",
       "      <td>0.095921</td>\n",
       "      <td>0.592941</td>\n",
       "      <td>-0.270533</td>\n",
       "      <td>0.817739</td>\n",
       "      <td>...</td>\n",
       "      <td>-0.009431</td>\n",
       "      <td>0.798278</td>\n",
       "      <td>-0.137458</td>\n",
       "      <td>0.141267</td>\n",
       "      <td>-0.206010</td>\n",
       "      <td>0.502292</td>\n",
       "      <td>0.219422</td>\n",
       "      <td>0.215153</td>\n",
       "      <td>69.99</td>\n",
       "      <td>0</td>\n",
       "    </tr>\n",
       "  </tbody>\n",
       "</table>\n",
       "<p>5 rows × 31 columns</p>\n",
       "</div>"
      ],
      "text/plain": [
       "   Time        V1        V2        V3        V4        V5        V6        V7  \\\n",
       "0   0.0 -1.359807 -0.072781  2.536347  1.378155 -0.338321  0.462388  0.239599   \n",
       "1   0.0  1.191857  0.266151  0.166480  0.448154  0.060018 -0.082361 -0.078803   \n",
       "2   1.0 -1.358354 -1.340163  1.773209  0.379780 -0.503198  1.800499  0.791461   \n",
       "3   1.0 -0.966272 -0.185226  1.792993 -0.863291 -0.010309  1.247203  0.237609   \n",
       "4   2.0 -1.158233  0.877737  1.548718  0.403034 -0.407193  0.095921  0.592941   \n",
       "\n",
       "         V8        V9  ...       V21       V22       V23       V24       V25  \\\n",
       "0  0.098698  0.363787  ... -0.018307  0.277838 -0.110474  0.066928  0.128539   \n",
       "1  0.085102 -0.255425  ... -0.225775 -0.638672  0.101288 -0.339846  0.167170   \n",
       "2  0.247676 -1.514654  ...  0.247998  0.771679  0.909412 -0.689281 -0.327642   \n",
       "3  0.377436 -1.387024  ... -0.108300  0.005274 -0.190321 -1.175575  0.647376   \n",
       "4 -0.270533  0.817739  ... -0.009431  0.798278 -0.137458  0.141267 -0.206010   \n",
       "\n",
       "        V26       V27       V28  Amount  Class  \n",
       "0 -0.189115  0.133558 -0.021053  149.62      0  \n",
       "1  0.125895 -0.008983  0.014724    2.69      0  \n",
       "2 -0.139097 -0.055353 -0.059752  378.66      0  \n",
       "3 -0.221929  0.062723  0.061458  123.50      0  \n",
       "4  0.502292  0.219422  0.215153   69.99      0  \n",
       "\n",
       "[5 rows x 31 columns]"
      ]
     },
     "execution_count": 2,
     "metadata": {},
     "output_type": "execute_result"
    }
   ],
   "source": [
    "data = pd.read_csv(\"creditcard.csv\")\n",
    "data.head()"
   ]
  },
  {
   "cell_type": "code",
   "execution_count": 3,
   "metadata": {},
   "outputs": [
    {
     "data": {
      "text/plain": [
       "(284807, 31)"
      ]
     },
     "execution_count": 3,
     "metadata": {},
     "output_type": "execute_result"
    }
   ],
   "source": [
    "data.shape"
   ]
  },
  {
   "cell_type": "markdown",
   "metadata": {},
   "source": [
    "## Finding and Removing the outliers"
   ]
  },
  {
   "cell_type": "code",
   "execution_count": 4,
   "metadata": {},
   "outputs": [],
   "source": [
    "# sampling random 50000 points\n",
    "data_50000 = data.sample(n = 50000)"
   ]
  },
  {
   "cell_type": "code",
   "execution_count": 5,
   "metadata": {},
   "outputs": [
    {
     "data": {
      "text/html": [
       "<div>\n",
       "<style scoped>\n",
       "    .dataframe tbody tr th:only-of-type {\n",
       "        vertical-align: middle;\n",
       "    }\n",
       "\n",
       "    .dataframe tbody tr th {\n",
       "        vertical-align: top;\n",
       "    }\n",
       "\n",
       "    .dataframe thead th {\n",
       "        text-align: right;\n",
       "    }\n",
       "</style>\n",
       "<table border=\"1\" class=\"dataframe\">\n",
       "  <thead>\n",
       "    <tr style=\"text-align: right;\">\n",
       "      <th></th>\n",
       "      <th>Time</th>\n",
       "      <th>V1</th>\n",
       "      <th>V2</th>\n",
       "      <th>V3</th>\n",
       "      <th>V4</th>\n",
       "      <th>V5</th>\n",
       "      <th>V6</th>\n",
       "      <th>V7</th>\n",
       "      <th>V8</th>\n",
       "      <th>V9</th>\n",
       "      <th>...</th>\n",
       "      <th>V21</th>\n",
       "      <th>V22</th>\n",
       "      <th>V23</th>\n",
       "      <th>V24</th>\n",
       "      <th>V25</th>\n",
       "      <th>V26</th>\n",
       "      <th>V27</th>\n",
       "      <th>V28</th>\n",
       "      <th>Amount</th>\n",
       "      <th>Class</th>\n",
       "    </tr>\n",
       "  </thead>\n",
       "  <tbody>\n",
       "    <tr>\n",
       "      <td>134840</td>\n",
       "      <td>80990.0</td>\n",
       "      <td>-2.444260</td>\n",
       "      <td>2.585654</td>\n",
       "      <td>0.268899</td>\n",
       "      <td>0.988650</td>\n",
       "      <td>-0.602195</td>\n",
       "      <td>-0.565556</td>\n",
       "      <td>0.112191</td>\n",
       "      <td>0.332103</td>\n",
       "      <td>0.591638</td>\n",
       "      <td>...</td>\n",
       "      <td>-0.160517</td>\n",
       "      <td>-0.429796</td>\n",
       "      <td>-0.008273</td>\n",
       "      <td>0.264212</td>\n",
       "      <td>-0.185336</td>\n",
       "      <td>-0.662864</td>\n",
       "      <td>-1.583215</td>\n",
       "      <td>-0.548640</td>\n",
       "      <td>9.55</td>\n",
       "      <td>0</td>\n",
       "    </tr>\n",
       "    <tr>\n",
       "      <td>60107</td>\n",
       "      <td>49162.0</td>\n",
       "      <td>-0.600425</td>\n",
       "      <td>0.507376</td>\n",
       "      <td>1.315834</td>\n",
       "      <td>0.477573</td>\n",
       "      <td>-0.978872</td>\n",
       "      <td>0.044558</td>\n",
       "      <td>0.110615</td>\n",
       "      <td>0.559529</td>\n",
       "      <td>-0.057982</td>\n",
       "      <td>...</td>\n",
       "      <td>0.126634</td>\n",
       "      <td>0.402120</td>\n",
       "      <td>0.173389</td>\n",
       "      <td>0.600582</td>\n",
       "      <td>-0.232857</td>\n",
       "      <td>0.280839</td>\n",
       "      <td>-0.096289</td>\n",
       "      <td>-0.026369</td>\n",
       "      <td>93.43</td>\n",
       "      <td>0</td>\n",
       "    </tr>\n",
       "    <tr>\n",
       "      <td>171094</td>\n",
       "      <td>120496.0</td>\n",
       "      <td>1.937401</td>\n",
       "      <td>-0.628340</td>\n",
       "      <td>-0.769127</td>\n",
       "      <td>0.289363</td>\n",
       "      <td>-0.285919</td>\n",
       "      <td>0.237501</td>\n",
       "      <td>-0.628537</td>\n",
       "      <td>0.087615</td>\n",
       "      <td>1.560418</td>\n",
       "      <td>...</td>\n",
       "      <td>0.165889</td>\n",
       "      <td>0.564984</td>\n",
       "      <td>0.021425</td>\n",
       "      <td>0.048119</td>\n",
       "      <td>-0.010319</td>\n",
       "      <td>-0.207181</td>\n",
       "      <td>0.023493</td>\n",
       "      <td>-0.028608</td>\n",
       "      <td>61.75</td>\n",
       "      <td>0</td>\n",
       "    </tr>\n",
       "    <tr>\n",
       "      <td>6965</td>\n",
       "      <td>9051.0</td>\n",
       "      <td>-0.692043</td>\n",
       "      <td>0.628297</td>\n",
       "      <td>1.755697</td>\n",
       "      <td>1.426988</td>\n",
       "      <td>0.507462</td>\n",
       "      <td>0.875312</td>\n",
       "      <td>0.303436</td>\n",
       "      <td>0.335085</td>\n",
       "      <td>0.681058</td>\n",
       "      <td>...</td>\n",
       "      <td>-0.055277</td>\n",
       "      <td>0.154263</td>\n",
       "      <td>-0.068650</td>\n",
       "      <td>-0.364108</td>\n",
       "      <td>-0.015503</td>\n",
       "      <td>-0.215139</td>\n",
       "      <td>0.109646</td>\n",
       "      <td>0.095162</td>\n",
       "      <td>46.92</td>\n",
       "      <td>0</td>\n",
       "    </tr>\n",
       "    <tr>\n",
       "      <td>21750</td>\n",
       "      <td>31838.0</td>\n",
       "      <td>-3.269965</td>\n",
       "      <td>-3.058706</td>\n",
       "      <td>3.690959</td>\n",
       "      <td>4.087592</td>\n",
       "      <td>2.304401</td>\n",
       "      <td>1.248519</td>\n",
       "      <td>-3.111997</td>\n",
       "      <td>1.455856</td>\n",
       "      <td>0.590570</td>\n",
       "      <td>...</td>\n",
       "      <td>0.525970</td>\n",
       "      <td>1.174842</td>\n",
       "      <td>0.599197</td>\n",
       "      <td>-0.595380</td>\n",
       "      <td>0.035730</td>\n",
       "      <td>0.660886</td>\n",
       "      <td>0.352391</td>\n",
       "      <td>0.223467</td>\n",
       "      <td>76.44</td>\n",
       "      <td>0</td>\n",
       "    </tr>\n",
       "  </tbody>\n",
       "</table>\n",
       "<p>5 rows × 31 columns</p>\n",
       "</div>"
      ],
      "text/plain": [
       "            Time        V1        V2        V3        V4        V5        V6  \\\n",
       "134840   80990.0 -2.444260  2.585654  0.268899  0.988650 -0.602195 -0.565556   \n",
       "60107    49162.0 -0.600425  0.507376  1.315834  0.477573 -0.978872  0.044558   \n",
       "171094  120496.0  1.937401 -0.628340 -0.769127  0.289363 -0.285919  0.237501   \n",
       "6965      9051.0 -0.692043  0.628297  1.755697  1.426988  0.507462  0.875312   \n",
       "21750    31838.0 -3.269965 -3.058706  3.690959  4.087592  2.304401  1.248519   \n",
       "\n",
       "              V7        V8        V9  ...       V21       V22       V23  \\\n",
       "134840  0.112191  0.332103  0.591638  ... -0.160517 -0.429796 -0.008273   \n",
       "60107   0.110615  0.559529 -0.057982  ...  0.126634  0.402120  0.173389   \n",
       "171094 -0.628537  0.087615  1.560418  ...  0.165889  0.564984  0.021425   \n",
       "6965    0.303436  0.335085  0.681058  ... -0.055277  0.154263 -0.068650   \n",
       "21750  -3.111997  1.455856  0.590570  ...  0.525970  1.174842  0.599197   \n",
       "\n",
       "             V24       V25       V26       V27       V28  Amount  Class  \n",
       "134840  0.264212 -0.185336 -0.662864 -1.583215 -0.548640    9.55      0  \n",
       "60107   0.600582 -0.232857  0.280839 -0.096289 -0.026369   93.43      0  \n",
       "171094  0.048119 -0.010319 -0.207181  0.023493 -0.028608   61.75      0  \n",
       "6965   -0.364108 -0.015503 -0.215139  0.109646  0.095162   46.92      0  \n",
       "21750  -0.595380  0.035730  0.660886  0.352391  0.223467   76.44      0  \n",
       "\n",
       "[5 rows x 31 columns]"
      ]
     },
     "execution_count": 5,
     "metadata": {},
     "output_type": "execute_result"
    }
   ],
   "source": [
    "data_50000.head()"
   ]
  },
  {
   "cell_type": "code",
   "execution_count": 6,
   "metadata": {},
   "outputs": [],
   "source": [
    "data_50000.to_csv(\"NewCreditCard.csv\")"
   ]
  },
  {
   "cell_type": "markdown",
   "metadata": {},
   "source": [
    "# Detecting outliers for 'k' value 2\n",
    "\n",
    "### We have assumed that 50% of total points in our data set are outliers.¶"
   ]
  },
  {
   "cell_type": "code",
   "execution_count": 7,
   "metadata": {},
   "outputs": [],
   "source": [
    "newData = pd.read_csv(\"NewCreditCard.csv\")"
   ]
  },
  {
   "cell_type": "code",
   "execution_count": 8,
   "metadata": {},
   "outputs": [
    {
     "data": {
      "text/html": [
       "<div>\n",
       "<style scoped>\n",
       "    .dataframe tbody tr th:only-of-type {\n",
       "        vertical-align: middle;\n",
       "    }\n",
       "\n",
       "    .dataframe tbody tr th {\n",
       "        vertical-align: top;\n",
       "    }\n",
       "\n",
       "    .dataframe thead th {\n",
       "        text-align: right;\n",
       "    }\n",
       "</style>\n",
       "<table border=\"1\" class=\"dataframe\">\n",
       "  <thead>\n",
       "    <tr style=\"text-align: right;\">\n",
       "      <th></th>\n",
       "      <th>Unnamed: 0</th>\n",
       "      <th>Time</th>\n",
       "      <th>V1</th>\n",
       "      <th>V2</th>\n",
       "      <th>V3</th>\n",
       "      <th>V4</th>\n",
       "      <th>V5</th>\n",
       "      <th>V6</th>\n",
       "      <th>V7</th>\n",
       "      <th>V8</th>\n",
       "      <th>...</th>\n",
       "      <th>V21</th>\n",
       "      <th>V22</th>\n",
       "      <th>V23</th>\n",
       "      <th>V24</th>\n",
       "      <th>V25</th>\n",
       "      <th>V26</th>\n",
       "      <th>V27</th>\n",
       "      <th>V28</th>\n",
       "      <th>Amount</th>\n",
       "      <th>Class</th>\n",
       "    </tr>\n",
       "  </thead>\n",
       "  <tbody>\n",
       "    <tr>\n",
       "      <td>0</td>\n",
       "      <td>134840</td>\n",
       "      <td>80990.0</td>\n",
       "      <td>-2.444260</td>\n",
       "      <td>2.585654</td>\n",
       "      <td>0.268899</td>\n",
       "      <td>0.988650</td>\n",
       "      <td>-0.602195</td>\n",
       "      <td>-0.565556</td>\n",
       "      <td>0.112191</td>\n",
       "      <td>0.332103</td>\n",
       "      <td>...</td>\n",
       "      <td>-0.160517</td>\n",
       "      <td>-0.429796</td>\n",
       "      <td>-0.008273</td>\n",
       "      <td>0.264212</td>\n",
       "      <td>-0.185336</td>\n",
       "      <td>-0.662864</td>\n",
       "      <td>-1.583215</td>\n",
       "      <td>-0.548640</td>\n",
       "      <td>9.55</td>\n",
       "      <td>0</td>\n",
       "    </tr>\n",
       "    <tr>\n",
       "      <td>1</td>\n",
       "      <td>60107</td>\n",
       "      <td>49162.0</td>\n",
       "      <td>-0.600425</td>\n",
       "      <td>0.507376</td>\n",
       "      <td>1.315834</td>\n",
       "      <td>0.477573</td>\n",
       "      <td>-0.978872</td>\n",
       "      <td>0.044558</td>\n",
       "      <td>0.110615</td>\n",
       "      <td>0.559529</td>\n",
       "      <td>...</td>\n",
       "      <td>0.126634</td>\n",
       "      <td>0.402120</td>\n",
       "      <td>0.173389</td>\n",
       "      <td>0.600582</td>\n",
       "      <td>-0.232857</td>\n",
       "      <td>0.280839</td>\n",
       "      <td>-0.096289</td>\n",
       "      <td>-0.026369</td>\n",
       "      <td>93.43</td>\n",
       "      <td>0</td>\n",
       "    </tr>\n",
       "    <tr>\n",
       "      <td>2</td>\n",
       "      <td>171094</td>\n",
       "      <td>120496.0</td>\n",
       "      <td>1.937401</td>\n",
       "      <td>-0.628340</td>\n",
       "      <td>-0.769127</td>\n",
       "      <td>0.289363</td>\n",
       "      <td>-0.285919</td>\n",
       "      <td>0.237501</td>\n",
       "      <td>-0.628537</td>\n",
       "      <td>0.087615</td>\n",
       "      <td>...</td>\n",
       "      <td>0.165889</td>\n",
       "      <td>0.564984</td>\n",
       "      <td>0.021425</td>\n",
       "      <td>0.048119</td>\n",
       "      <td>-0.010319</td>\n",
       "      <td>-0.207181</td>\n",
       "      <td>0.023493</td>\n",
       "      <td>-0.028608</td>\n",
       "      <td>61.75</td>\n",
       "      <td>0</td>\n",
       "    </tr>\n",
       "    <tr>\n",
       "      <td>3</td>\n",
       "      <td>6965</td>\n",
       "      <td>9051.0</td>\n",
       "      <td>-0.692043</td>\n",
       "      <td>0.628297</td>\n",
       "      <td>1.755697</td>\n",
       "      <td>1.426988</td>\n",
       "      <td>0.507462</td>\n",
       "      <td>0.875312</td>\n",
       "      <td>0.303436</td>\n",
       "      <td>0.335085</td>\n",
       "      <td>...</td>\n",
       "      <td>-0.055277</td>\n",
       "      <td>0.154263</td>\n",
       "      <td>-0.068650</td>\n",
       "      <td>-0.364108</td>\n",
       "      <td>-0.015503</td>\n",
       "      <td>-0.215139</td>\n",
       "      <td>0.109646</td>\n",
       "      <td>0.095162</td>\n",
       "      <td>46.92</td>\n",
       "      <td>0</td>\n",
       "    </tr>\n",
       "    <tr>\n",
       "      <td>4</td>\n",
       "      <td>21750</td>\n",
       "      <td>31838.0</td>\n",
       "      <td>-3.269965</td>\n",
       "      <td>-3.058706</td>\n",
       "      <td>3.690959</td>\n",
       "      <td>4.087592</td>\n",
       "      <td>2.304401</td>\n",
       "      <td>1.248519</td>\n",
       "      <td>-3.111997</td>\n",
       "      <td>1.455856</td>\n",
       "      <td>...</td>\n",
       "      <td>0.525970</td>\n",
       "      <td>1.174842</td>\n",
       "      <td>0.599197</td>\n",
       "      <td>-0.595380</td>\n",
       "      <td>0.035730</td>\n",
       "      <td>0.660886</td>\n",
       "      <td>0.352391</td>\n",
       "      <td>0.223467</td>\n",
       "      <td>76.44</td>\n",
       "      <td>0</td>\n",
       "    </tr>\n",
       "  </tbody>\n",
       "</table>\n",
       "<p>5 rows × 32 columns</p>\n",
       "</div>"
      ],
      "text/plain": [
       "   Unnamed: 0      Time        V1        V2        V3        V4        V5  \\\n",
       "0      134840   80990.0 -2.444260  2.585654  0.268899  0.988650 -0.602195   \n",
       "1       60107   49162.0 -0.600425  0.507376  1.315834  0.477573 -0.978872   \n",
       "2      171094  120496.0  1.937401 -0.628340 -0.769127  0.289363 -0.285919   \n",
       "3        6965    9051.0 -0.692043  0.628297  1.755697  1.426988  0.507462   \n",
       "4       21750   31838.0 -3.269965 -3.058706  3.690959  4.087592  2.304401   \n",
       "\n",
       "         V6        V7        V8  ...       V21       V22       V23       V24  \\\n",
       "0 -0.565556  0.112191  0.332103  ... -0.160517 -0.429796 -0.008273  0.264212   \n",
       "1  0.044558  0.110615  0.559529  ...  0.126634  0.402120  0.173389  0.600582   \n",
       "2  0.237501 -0.628537  0.087615  ...  0.165889  0.564984  0.021425  0.048119   \n",
       "3  0.875312  0.303436  0.335085  ... -0.055277  0.154263 -0.068650 -0.364108   \n",
       "4  1.248519 -3.111997  1.455856  ...  0.525970  1.174842  0.599197 -0.595380   \n",
       "\n",
       "        V25       V26       V27       V28  Amount  Class  \n",
       "0 -0.185336 -0.662864 -1.583215 -0.548640    9.55      0  \n",
       "1 -0.232857  0.280839 -0.096289 -0.026369   93.43      0  \n",
       "2 -0.010319 -0.207181  0.023493 -0.028608   61.75      0  \n",
       "3 -0.015503 -0.215139  0.109646  0.095162   46.92      0  \n",
       "4  0.035730  0.660886  0.352391  0.223467   76.44      0  \n",
       "\n",
       "[5 rows x 32 columns]"
      ]
     },
     "execution_count": 8,
     "metadata": {},
     "output_type": "execute_result"
    }
   ],
   "source": [
    "newData.head()"
   ]
  },
  {
   "cell_type": "code",
   "execution_count": 9,
   "metadata": {},
   "outputs": [],
   "source": [
    "FinalData = newData.drop(\"Unnamed: 0\", axis = 1)"
   ]
  },
  {
   "cell_type": "code",
   "execution_count": 10,
   "metadata": {},
   "outputs": [
    {
     "data": {
      "text/html": [
       "<div>\n",
       "<style scoped>\n",
       "    .dataframe tbody tr th:only-of-type {\n",
       "        vertical-align: middle;\n",
       "    }\n",
       "\n",
       "    .dataframe tbody tr th {\n",
       "        vertical-align: top;\n",
       "    }\n",
       "\n",
       "    .dataframe thead th {\n",
       "        text-align: right;\n",
       "    }\n",
       "</style>\n",
       "<table border=\"1\" class=\"dataframe\">\n",
       "  <thead>\n",
       "    <tr style=\"text-align: right;\">\n",
       "      <th></th>\n",
       "      <th>Time</th>\n",
       "      <th>V1</th>\n",
       "      <th>V2</th>\n",
       "      <th>V3</th>\n",
       "      <th>V4</th>\n",
       "      <th>V5</th>\n",
       "      <th>V6</th>\n",
       "      <th>V7</th>\n",
       "      <th>V8</th>\n",
       "      <th>V9</th>\n",
       "      <th>...</th>\n",
       "      <th>V21</th>\n",
       "      <th>V22</th>\n",
       "      <th>V23</th>\n",
       "      <th>V24</th>\n",
       "      <th>V25</th>\n",
       "      <th>V26</th>\n",
       "      <th>V27</th>\n",
       "      <th>V28</th>\n",
       "      <th>Amount</th>\n",
       "      <th>Class</th>\n",
       "    </tr>\n",
       "  </thead>\n",
       "  <tbody>\n",
       "    <tr>\n",
       "      <td>0</td>\n",
       "      <td>80990.0</td>\n",
       "      <td>-2.444260</td>\n",
       "      <td>2.585654</td>\n",
       "      <td>0.268899</td>\n",
       "      <td>0.988650</td>\n",
       "      <td>-0.602195</td>\n",
       "      <td>-0.565556</td>\n",
       "      <td>0.112191</td>\n",
       "      <td>0.332103</td>\n",
       "      <td>0.591638</td>\n",
       "      <td>...</td>\n",
       "      <td>-0.160517</td>\n",
       "      <td>-0.429796</td>\n",
       "      <td>-0.008273</td>\n",
       "      <td>0.264212</td>\n",
       "      <td>-0.185336</td>\n",
       "      <td>-0.662864</td>\n",
       "      <td>-1.583215</td>\n",
       "      <td>-0.548640</td>\n",
       "      <td>9.55</td>\n",
       "      <td>0</td>\n",
       "    </tr>\n",
       "    <tr>\n",
       "      <td>1</td>\n",
       "      <td>49162.0</td>\n",
       "      <td>-0.600425</td>\n",
       "      <td>0.507376</td>\n",
       "      <td>1.315834</td>\n",
       "      <td>0.477573</td>\n",
       "      <td>-0.978872</td>\n",
       "      <td>0.044558</td>\n",
       "      <td>0.110615</td>\n",
       "      <td>0.559529</td>\n",
       "      <td>-0.057982</td>\n",
       "      <td>...</td>\n",
       "      <td>0.126634</td>\n",
       "      <td>0.402120</td>\n",
       "      <td>0.173389</td>\n",
       "      <td>0.600582</td>\n",
       "      <td>-0.232857</td>\n",
       "      <td>0.280839</td>\n",
       "      <td>-0.096289</td>\n",
       "      <td>-0.026369</td>\n",
       "      <td>93.43</td>\n",
       "      <td>0</td>\n",
       "    </tr>\n",
       "    <tr>\n",
       "      <td>2</td>\n",
       "      <td>120496.0</td>\n",
       "      <td>1.937401</td>\n",
       "      <td>-0.628340</td>\n",
       "      <td>-0.769127</td>\n",
       "      <td>0.289363</td>\n",
       "      <td>-0.285919</td>\n",
       "      <td>0.237501</td>\n",
       "      <td>-0.628537</td>\n",
       "      <td>0.087615</td>\n",
       "      <td>1.560418</td>\n",
       "      <td>...</td>\n",
       "      <td>0.165889</td>\n",
       "      <td>0.564984</td>\n",
       "      <td>0.021425</td>\n",
       "      <td>0.048119</td>\n",
       "      <td>-0.010319</td>\n",
       "      <td>-0.207181</td>\n",
       "      <td>0.023493</td>\n",
       "      <td>-0.028608</td>\n",
       "      <td>61.75</td>\n",
       "      <td>0</td>\n",
       "    </tr>\n",
       "    <tr>\n",
       "      <td>3</td>\n",
       "      <td>9051.0</td>\n",
       "      <td>-0.692043</td>\n",
       "      <td>0.628297</td>\n",
       "      <td>1.755697</td>\n",
       "      <td>1.426988</td>\n",
       "      <td>0.507462</td>\n",
       "      <td>0.875312</td>\n",
       "      <td>0.303436</td>\n",
       "      <td>0.335085</td>\n",
       "      <td>0.681058</td>\n",
       "      <td>...</td>\n",
       "      <td>-0.055277</td>\n",
       "      <td>0.154263</td>\n",
       "      <td>-0.068650</td>\n",
       "      <td>-0.364108</td>\n",
       "      <td>-0.015503</td>\n",
       "      <td>-0.215139</td>\n",
       "      <td>0.109646</td>\n",
       "      <td>0.095162</td>\n",
       "      <td>46.92</td>\n",
       "      <td>0</td>\n",
       "    </tr>\n",
       "    <tr>\n",
       "      <td>4</td>\n",
       "      <td>31838.0</td>\n",
       "      <td>-3.269965</td>\n",
       "      <td>-3.058706</td>\n",
       "      <td>3.690959</td>\n",
       "      <td>4.087592</td>\n",
       "      <td>2.304401</td>\n",
       "      <td>1.248519</td>\n",
       "      <td>-3.111997</td>\n",
       "      <td>1.455856</td>\n",
       "      <td>0.590570</td>\n",
       "      <td>...</td>\n",
       "      <td>0.525970</td>\n",
       "      <td>1.174842</td>\n",
       "      <td>0.599197</td>\n",
       "      <td>-0.595380</td>\n",
       "      <td>0.035730</td>\n",
       "      <td>0.660886</td>\n",
       "      <td>0.352391</td>\n",
       "      <td>0.223467</td>\n",
       "      <td>76.44</td>\n",
       "      <td>0</td>\n",
       "    </tr>\n",
       "  </tbody>\n",
       "</table>\n",
       "<p>5 rows × 31 columns</p>\n",
       "</div>"
      ],
      "text/plain": [
       "       Time        V1        V2        V3        V4        V5        V6  \\\n",
       "0   80990.0 -2.444260  2.585654  0.268899  0.988650 -0.602195 -0.565556   \n",
       "1   49162.0 -0.600425  0.507376  1.315834  0.477573 -0.978872  0.044558   \n",
       "2  120496.0  1.937401 -0.628340 -0.769127  0.289363 -0.285919  0.237501   \n",
       "3    9051.0 -0.692043  0.628297  1.755697  1.426988  0.507462  0.875312   \n",
       "4   31838.0 -3.269965 -3.058706  3.690959  4.087592  2.304401  1.248519   \n",
       "\n",
       "         V7        V8        V9  ...       V21       V22       V23       V24  \\\n",
       "0  0.112191  0.332103  0.591638  ... -0.160517 -0.429796 -0.008273  0.264212   \n",
       "1  0.110615  0.559529 -0.057982  ...  0.126634  0.402120  0.173389  0.600582   \n",
       "2 -0.628537  0.087615  1.560418  ...  0.165889  0.564984  0.021425  0.048119   \n",
       "3  0.303436  0.335085  0.681058  ... -0.055277  0.154263 -0.068650 -0.364108   \n",
       "4 -3.111997  1.455856  0.590570  ...  0.525970  1.174842  0.599197 -0.595380   \n",
       "\n",
       "        V25       V26       V27       V28  Amount  Class  \n",
       "0 -0.185336 -0.662864 -1.583215 -0.548640    9.55      0  \n",
       "1 -0.232857  0.280839 -0.096289 -0.026369   93.43      0  \n",
       "2 -0.010319 -0.207181  0.023493 -0.028608   61.75      0  \n",
       "3 -0.015503 -0.215139  0.109646  0.095162   46.92      0  \n",
       "4  0.035730  0.660886  0.352391  0.223467   76.44      0  \n",
       "\n",
       "[5 rows x 31 columns]"
      ]
     },
     "execution_count": 10,
     "metadata": {},
     "output_type": "execute_result"
    }
   ],
   "source": [
    "FinalData.head()"
   ]
  },
  {
   "cell_type": "code",
   "execution_count": 11,
   "metadata": {},
   "outputs": [
    {
     "data": {
      "text/plain": [
       "(50000, 31)"
      ]
     },
     "execution_count": 11,
     "metadata": {},
     "output_type": "execute_result"
    }
   ],
   "source": [
    "FinalData.shape"
   ]
  },
  {
   "cell_type": "code",
   "execution_count": 12,
   "metadata": {},
   "outputs": [
    {
     "data": {
      "text/plain": [
       "array([-1,  1, -1, ...,  1, -1, -1])"
      ]
     },
     "execution_count": 12,
     "metadata": {},
     "output_type": "execute_result"
    }
   ],
   "source": [
    "lof = LocalOutlierFactor(n_neighbors=2, algorithm='auto', metric='minkowski', p=2, metric_params=None, contamination=0.5, n_jobs=1)\n",
    "\n",
    "outlierArray = lof.fit_predict(FinalData)\n",
    "\n",
    "outlierArray"
   ]
  },
  {
   "cell_type": "code",
   "execution_count": 13,
   "metadata": {},
   "outputs": [
    {
     "data": {
      "text/plain": [
       "50000"
      ]
     },
     "execution_count": 13,
     "metadata": {},
     "output_type": "execute_result"
    }
   ],
   "source": [
    "len(outlierArray)"
   ]
  },
  {
   "cell_type": "markdown",
   "metadata": {},
   "source": [
    "## Calculating total number of outlier and inliers"
   ]
  },
  {
   "cell_type": "code",
   "execution_count": 14,
   "metadata": {},
   "outputs": [
    {
     "name": "stdout",
     "output_type": "stream",
     "text": [
      "Total number of outliers = 25000\n",
      "Total number of inliers = 25000\n"
     ]
    }
   ],
   "source": [
    "countOutliers = 0\n",
    "countInliers = 0\n",
    "for i in range(50000):\n",
    "    if outlierArray[i] == -1:\n",
    "        countOutliers += 1\n",
    "    else:\n",
    "        countInliers += 1\n",
    "print(\"Total number of outliers = \"+str(countOutliers))\n",
    "print(\"Total number of inliers = \"+str(countInliers))"
   ]
  },
  {
   "cell_type": "code",
   "execution_count": 15,
   "metadata": {},
   "outputs": [],
   "source": [
    "FinalData2 = FinalData.copy()"
   ]
  },
  {
   "cell_type": "code",
   "execution_count": 16,
   "metadata": {},
   "outputs": [
    {
     "data": {
      "text/plain": [
       "(50000, 31)"
      ]
     },
     "execution_count": 16,
     "metadata": {},
     "output_type": "execute_result"
    }
   ],
   "source": [
    "FinalData2.shape"
   ]
  },
  {
   "cell_type": "markdown",
   "metadata": {},
   "source": [
    "## Removing Outliers"
   ]
  },
  {
   "cell_type": "code",
   "execution_count": 17,
   "metadata": {},
   "outputs": [
    {
     "data": {
      "text/html": [
       "<div>\n",
       "<style scoped>\n",
       "    .dataframe tbody tr th:only-of-type {\n",
       "        vertical-align: middle;\n",
       "    }\n",
       "\n",
       "    .dataframe tbody tr th {\n",
       "        vertical-align: top;\n",
       "    }\n",
       "\n",
       "    .dataframe thead th {\n",
       "        text-align: right;\n",
       "    }\n",
       "</style>\n",
       "<table border=\"1\" class=\"dataframe\">\n",
       "  <thead>\n",
       "    <tr style=\"text-align: right;\">\n",
       "      <th></th>\n",
       "      <th>Time</th>\n",
       "      <th>V1</th>\n",
       "      <th>V2</th>\n",
       "      <th>V3</th>\n",
       "      <th>V4</th>\n",
       "      <th>V5</th>\n",
       "      <th>V6</th>\n",
       "      <th>V7</th>\n",
       "      <th>V8</th>\n",
       "      <th>V9</th>\n",
       "      <th>...</th>\n",
       "      <th>V21</th>\n",
       "      <th>V22</th>\n",
       "      <th>V23</th>\n",
       "      <th>V24</th>\n",
       "      <th>V25</th>\n",
       "      <th>V26</th>\n",
       "      <th>V27</th>\n",
       "      <th>V28</th>\n",
       "      <th>Amount</th>\n",
       "      <th>Class</th>\n",
       "    </tr>\n",
       "  </thead>\n",
       "  <tbody>\n",
       "    <tr>\n",
       "      <td>0</td>\n",
       "      <td>80990.0</td>\n",
       "      <td>-2.444260</td>\n",
       "      <td>2.585654</td>\n",
       "      <td>0.268899</td>\n",
       "      <td>0.988650</td>\n",
       "      <td>-0.602195</td>\n",
       "      <td>-0.565556</td>\n",
       "      <td>0.112191</td>\n",
       "      <td>0.332103</td>\n",
       "      <td>0.591638</td>\n",
       "      <td>...</td>\n",
       "      <td>-0.160517</td>\n",
       "      <td>-0.429796</td>\n",
       "      <td>-0.008273</td>\n",
       "      <td>0.264212</td>\n",
       "      <td>-0.185336</td>\n",
       "      <td>-0.662864</td>\n",
       "      <td>-1.583215</td>\n",
       "      <td>-0.548640</td>\n",
       "      <td>9.55</td>\n",
       "      <td>0</td>\n",
       "    </tr>\n",
       "    <tr>\n",
       "      <td>1</td>\n",
       "      <td>49162.0</td>\n",
       "      <td>-0.600425</td>\n",
       "      <td>0.507376</td>\n",
       "      <td>1.315834</td>\n",
       "      <td>0.477573</td>\n",
       "      <td>-0.978872</td>\n",
       "      <td>0.044558</td>\n",
       "      <td>0.110615</td>\n",
       "      <td>0.559529</td>\n",
       "      <td>-0.057982</td>\n",
       "      <td>...</td>\n",
       "      <td>0.126634</td>\n",
       "      <td>0.402120</td>\n",
       "      <td>0.173389</td>\n",
       "      <td>0.600582</td>\n",
       "      <td>-0.232857</td>\n",
       "      <td>0.280839</td>\n",
       "      <td>-0.096289</td>\n",
       "      <td>-0.026369</td>\n",
       "      <td>93.43</td>\n",
       "      <td>0</td>\n",
       "    </tr>\n",
       "    <tr>\n",
       "      <td>2</td>\n",
       "      <td>120496.0</td>\n",
       "      <td>1.937401</td>\n",
       "      <td>-0.628340</td>\n",
       "      <td>-0.769127</td>\n",
       "      <td>0.289363</td>\n",
       "      <td>-0.285919</td>\n",
       "      <td>0.237501</td>\n",
       "      <td>-0.628537</td>\n",
       "      <td>0.087615</td>\n",
       "      <td>1.560418</td>\n",
       "      <td>...</td>\n",
       "      <td>0.165889</td>\n",
       "      <td>0.564984</td>\n",
       "      <td>0.021425</td>\n",
       "      <td>0.048119</td>\n",
       "      <td>-0.010319</td>\n",
       "      <td>-0.207181</td>\n",
       "      <td>0.023493</td>\n",
       "      <td>-0.028608</td>\n",
       "      <td>61.75</td>\n",
       "      <td>0</td>\n",
       "    </tr>\n",
       "    <tr>\n",
       "      <td>3</td>\n",
       "      <td>9051.0</td>\n",
       "      <td>-0.692043</td>\n",
       "      <td>0.628297</td>\n",
       "      <td>1.755697</td>\n",
       "      <td>1.426988</td>\n",
       "      <td>0.507462</td>\n",
       "      <td>0.875312</td>\n",
       "      <td>0.303436</td>\n",
       "      <td>0.335085</td>\n",
       "      <td>0.681058</td>\n",
       "      <td>...</td>\n",
       "      <td>-0.055277</td>\n",
       "      <td>0.154263</td>\n",
       "      <td>-0.068650</td>\n",
       "      <td>-0.364108</td>\n",
       "      <td>-0.015503</td>\n",
       "      <td>-0.215139</td>\n",
       "      <td>0.109646</td>\n",
       "      <td>0.095162</td>\n",
       "      <td>46.92</td>\n",
       "      <td>0</td>\n",
       "    </tr>\n",
       "    <tr>\n",
       "      <td>4</td>\n",
       "      <td>31838.0</td>\n",
       "      <td>-3.269965</td>\n",
       "      <td>-3.058706</td>\n",
       "      <td>3.690959</td>\n",
       "      <td>4.087592</td>\n",
       "      <td>2.304401</td>\n",
       "      <td>1.248519</td>\n",
       "      <td>-3.111997</td>\n",
       "      <td>1.455856</td>\n",
       "      <td>0.590570</td>\n",
       "      <td>...</td>\n",
       "      <td>0.525970</td>\n",
       "      <td>1.174842</td>\n",
       "      <td>0.599197</td>\n",
       "      <td>-0.595380</td>\n",
       "      <td>0.035730</td>\n",
       "      <td>0.660886</td>\n",
       "      <td>0.352391</td>\n",
       "      <td>0.223467</td>\n",
       "      <td>76.44</td>\n",
       "      <td>0</td>\n",
       "    </tr>\n",
       "  </tbody>\n",
       "</table>\n",
       "<p>5 rows × 31 columns</p>\n",
       "</div>"
      ],
      "text/plain": [
       "       Time        V1        V2        V3        V4        V5        V6  \\\n",
       "0   80990.0 -2.444260  2.585654  0.268899  0.988650 -0.602195 -0.565556   \n",
       "1   49162.0 -0.600425  0.507376  1.315834  0.477573 -0.978872  0.044558   \n",
       "2  120496.0  1.937401 -0.628340 -0.769127  0.289363 -0.285919  0.237501   \n",
       "3    9051.0 -0.692043  0.628297  1.755697  1.426988  0.507462  0.875312   \n",
       "4   31838.0 -3.269965 -3.058706  3.690959  4.087592  2.304401  1.248519   \n",
       "\n",
       "         V7        V8        V9  ...       V21       V22       V23       V24  \\\n",
       "0  0.112191  0.332103  0.591638  ... -0.160517 -0.429796 -0.008273  0.264212   \n",
       "1  0.110615  0.559529 -0.057982  ...  0.126634  0.402120  0.173389  0.600582   \n",
       "2 -0.628537  0.087615  1.560418  ...  0.165889  0.564984  0.021425  0.048119   \n",
       "3  0.303436  0.335085  0.681058  ... -0.055277  0.154263 -0.068650 -0.364108   \n",
       "4 -3.111997  1.455856  0.590570  ...  0.525970  1.174842  0.599197 -0.595380   \n",
       "\n",
       "        V25       V26       V27       V28  Amount  Class  \n",
       "0 -0.185336 -0.662864 -1.583215 -0.548640    9.55      0  \n",
       "1 -0.232857  0.280839 -0.096289 -0.026369   93.43      0  \n",
       "2 -0.010319 -0.207181  0.023493 -0.028608   61.75      0  \n",
       "3 -0.015503 -0.215139  0.109646  0.095162   46.92      0  \n",
       "4  0.035730  0.660886  0.352391  0.223467   76.44      0  \n",
       "\n",
       "[5 rows x 31 columns]"
      ]
     },
     "execution_count": 17,
     "metadata": {},
     "output_type": "execute_result"
    }
   ],
   "source": [
    "for i in range(50000):\n",
    "    if outlierArray[i] == -2:\n",
    "        FinalData.drop(i, inplace = True)\n",
    "FinalData.head()"
   ]
  },
  {
   "cell_type": "code",
   "execution_count": 18,
   "metadata": {},
   "outputs": [
    {
     "data": {
      "text/plain": [
       "(50000, 31)"
      ]
     },
     "execution_count": 18,
     "metadata": {},
     "output_type": "execute_result"
    }
   ],
   "source": [
    "FinalData.shape"
   ]
  },
  {
   "cell_type": "code",
   "execution_count": 19,
   "metadata": {},
   "outputs": [
    {
     "data": {
      "image/png": "[encoded data removed]",
      "text/plain": [
       "<Figure size 1152x432 with 2 Axes>"
      ]
     },
     "metadata": {
      "needs_background": "light"
     },
     "output_type": "display_data"
    }
   ],
   "source": [
    "fig = plt.figure(figsize = (16,6))\n",
    "\n",
    "plt.subplot(1, 2, 1)\n",
    "plt.title(\"Before removing outliers for column V1\")\n",
    "ax = sns.boxplot(x=\"Class\", y = \"V1\", data= FinalData2, hue = \"Class\")\n",
    "\n",
    "plt.subplot(1, 2, 2)\n",
    "plt.title(\"After removing outliers for column V1\")\n",
    "ax = sns.boxplot(x=\"Class\", y = \"V1\", data= FinalData, hue = \"Class\")\n"
   ]
  },
  {
   "cell_type": "code",
   "execution_count": 20,
   "metadata": {},
   "outputs": [
    {
     "data": {
      "image/png": "[encoded data removed]",
      "text/plain": [
       "<Figure size 1152x432 with 2 Axes>"
      ]
     },
     "metadata": {
      "needs_background": "light"
     },
     "output_type": "display_data"
    }
   ],
   "source": [
    "fig = plt.figure(figsize = (16,6))\n",
    "\n",
    "plt.subplot(1, 2, 1)\n",
    "plt.title(\"Before removing outliers for column V2\")\n",
    "ax = sns.boxplot(x=\"Class\", y = \"V2\", data= FinalData2, hue = \"Class\")\n",
    "\n",
    "plt.subplot(1, 2, 2)\n",
    "plt.title(\"After removing outliers for column V2\")\n",
    "ax = sns.boxplot(x=\"Class\", y = \"V2\", data= FinalData, hue = \"Class\")"
   ]
  },
  {
   "cell_type": "code",
   "execution_count": 21,
   "metadata": {},
   "outputs": [
    {
     "data": {
      "image/png": "[encoded data removed]",
      "text/plain": [
       "<Figure size 1152x432 with 2 Axes>"
      ]
     },
     "metadata": {
      "needs_background": "light"
     },
     "output_type": "display_data"
    }
   ],
   "source": [
    "fig = plt.figure(figsize = (16,6))\n",
    "\n",
    "plt.subplot(1, 2, 1)\n",
    "plt.title(\"Before removing outliers for column V3\")\n",
    "ax = sns.boxplot(x=\"Class\", y = \"V3\", data= FinalData2, hue = \"Class\")\n",
    "\n",
    "plt.subplot(1, 2, 2)\n",
    "plt.title(\"After removing outliers for column V3\")\n",
    "ax = sns.boxplot(x=\"Class\", y = \"V3\", data= FinalData, hue = \"Class\")"
   ]
  },
  {
   "cell_type": "code",
   "execution_count": 22,
   "metadata": {},
   "outputs": [
    {
     "data": {
      "image/png": "[encoded data removed]",
      "text/plain": [
       "<Figure size 1152x432 with 2 Axes>"
      ]
     },
     "metadata": {
      "needs_background": "light"
     },
     "output_type": "display_data"
    }
   ],
   "source": [
    "fig = plt.figure(figsize = (16,6))\n",
    "\n",
    "plt.subplot(1, 2, 1)\n",
    "plt.title(\"Before removing outliers for column V4\")\n",
    "ax = sns.boxplot(x=\"Class\", y = \"V4\", data= FinalData2, hue = \"Class\")\n",
    "\n",
    "plt.subplot(1, 2, 2)\n",
    "plt.title(\"After removing outliers for column V4\")\n",
    "ax = sns.boxplot(x=\"Class\", y = \"V4\", data= FinalData, hue = \"Class\")"
   ]
  },
  {
   "cell_type": "code",
   "execution_count": 23,
   "metadata": {},
   "outputs": [
    {
     "data": {
      "image/png": "[encoded data removed]",
      "text/plain": [
       "<Figure size 1152x432 with 2 Axes>"
      ]
     },
     "metadata": {
      "needs_background": "light"
     },
     "output_type": "display_data"
    }
   ],
   "source": [
    "fig = plt.figure(figsize = (16,6))\n",
    "\n",
    "plt.subplot(1, 2, 1)\n",
    "plt.title(\"Before removing outliers for column V5\")\n",
    "ax = sns.boxplot(x=\"Class\", y = \"V5\", data= FinalData2, hue = \"Class\")\n",
    "\n",
    "plt.subplot(1, 2, 2)\n",
    "plt.title(\"After removing outliers for column V5\")\n",
    "ax = sns.boxplot(x=\"Class\", y = \"V5\", data= FinalData, hue = \"Class\")"
   ]
  },
  {
   "cell_type": "markdown",
   "metadata": {},
   "source": [
    "It can easily be observed in all of the above boxplots corresponding to columns V1, V2, V3, V4, V5, that most of the outliers for points belongs to class 1 has been removed. Furthermore, many of the outliers for points belong to class 0 has also been removed. For example for class 0 in plot 1 for column V1 all of the outliers less than -35 have been removed. Similarly, for class 0 in plot 3 for column V3 all the outliers less than -18 have been removed. Similarly, for class 0 in plot 5 for column V5 all of the outliers greater than 15 have been removed.\n",
    "\n",
    "\n",
    "## Detecting outliers for 'k' value 3\n",
    "\n",
    "We have assumed that 50% of total points in our data set are outliers."
   ]
  },
  {
   "cell_type": "code",
   "execution_count": 24,
   "metadata": {},
   "outputs": [
    {
     "data": {
      "text/html": [
       "<div>\n",
       "<style scoped>\n",
       "    .dataframe tbody tr th:only-of-type {\n",
       "        vertical-align: middle;\n",
       "    }\n",
       "\n",
       "    .dataframe tbody tr th {\n",
       "        vertical-align: top;\n",
       "    }\n",
       "\n",
       "    .dataframe thead th {\n",
       "        text-align: right;\n",
       "    }\n",
       "</style>\n",
       "<table border=\"1\" class=\"dataframe\">\n",
       "  <thead>\n",
       "    <tr style=\"text-align: right;\">\n",
       "      <th></th>\n",
       "      <th>Unnamed: 0</th>\n",
       "      <th>Time</th>\n",
       "      <th>V1</th>\n",
       "      <th>V2</th>\n",
       "      <th>V3</th>\n",
       "      <th>V4</th>\n",
       "      <th>V5</th>\n",
       "      <th>V6</th>\n",
       "      <th>V7</th>\n",
       "      <th>V8</th>\n",
       "      <th>...</th>\n",
       "      <th>V21</th>\n",
       "      <th>V22</th>\n",
       "      <th>V23</th>\n",
       "      <th>V24</th>\n",
       "      <th>V25</th>\n",
       "      <th>V26</th>\n",
       "      <th>V27</th>\n",
       "      <th>V28</th>\n",
       "      <th>Amount</th>\n",
       "      <th>Class</th>\n",
       "    </tr>\n",
       "  </thead>\n",
       "  <tbody>\n",
       "    <tr>\n",
       "      <td>0</td>\n",
       "      <td>134840</td>\n",
       "      <td>80990.0</td>\n",
       "      <td>-2.444260</td>\n",
       "      <td>2.585654</td>\n",
       "      <td>0.268899</td>\n",
       "      <td>0.988650</td>\n",
       "      <td>-0.602195</td>\n",
       "      <td>-0.565556</td>\n",
       "      <td>0.112191</td>\n",
       "      <td>0.332103</td>\n",
       "      <td>...</td>\n",
       "      <td>-0.160517</td>\n",
       "      <td>-0.429796</td>\n",
       "      <td>-0.008273</td>\n",
       "      <td>0.264212</td>\n",
       "      <td>-0.185336</td>\n",
       "      <td>-0.662864</td>\n",
       "      <td>-1.583215</td>\n",
       "      <td>-0.548640</td>\n",
       "      <td>9.55</td>\n",
       "      <td>0</td>\n",
       "    </tr>\n",
       "    <tr>\n",
       "      <td>1</td>\n",
       "      <td>60107</td>\n",
       "      <td>49162.0</td>\n",
       "      <td>-0.600425</td>\n",
       "      <td>0.507376</td>\n",
       "      <td>1.315834</td>\n",
       "      <td>0.477573</td>\n",
       "      <td>-0.978872</td>\n",
       "      <td>0.044558</td>\n",
       "      <td>0.110615</td>\n",
       "      <td>0.559529</td>\n",
       "      <td>...</td>\n",
       "      <td>0.126634</td>\n",
       "      <td>0.402120</td>\n",
       "      <td>0.173389</td>\n",
       "      <td>0.600582</td>\n",
       "      <td>-0.232857</td>\n",
       "      <td>0.280839</td>\n",
       "      <td>-0.096289</td>\n",
       "      <td>-0.026369</td>\n",
       "      <td>93.43</td>\n",
       "      <td>0</td>\n",
       "    </tr>\n",
       "    <tr>\n",
       "      <td>2</td>\n",
       "      <td>171094</td>\n",
       "      <td>120496.0</td>\n",
       "      <td>1.937401</td>\n",
       "      <td>-0.628340</td>\n",
       "      <td>-0.769127</td>\n",
       "      <td>0.289363</td>\n",
       "      <td>-0.285919</td>\n",
       "      <td>0.237501</td>\n",
       "      <td>-0.628537</td>\n",
       "      <td>0.087615</td>\n",
       "      <td>...</td>\n",
       "      <td>0.165889</td>\n",
       "      <td>0.564984</td>\n",
       "      <td>0.021425</td>\n",
       "      <td>0.048119</td>\n",
       "      <td>-0.010319</td>\n",
       "      <td>-0.207181</td>\n",
       "      <td>0.023493</td>\n",
       "      <td>-0.028608</td>\n",
       "      <td>61.75</td>\n",
       "      <td>0</td>\n",
       "    </tr>\n",
       "    <tr>\n",
       "      <td>3</td>\n",
       "      <td>6965</td>\n",
       "      <td>9051.0</td>\n",
       "      <td>-0.692043</td>\n",
       "      <td>0.628297</td>\n",
       "      <td>1.755697</td>\n",
       "      <td>1.426988</td>\n",
       "      <td>0.507462</td>\n",
       "      <td>0.875312</td>\n",
       "      <td>0.303436</td>\n",
       "      <td>0.335085</td>\n",
       "      <td>...</td>\n",
       "      <td>-0.055277</td>\n",
       "      <td>0.154263</td>\n",
       "      <td>-0.068650</td>\n",
       "      <td>-0.364108</td>\n",
       "      <td>-0.015503</td>\n",
       "      <td>-0.215139</td>\n",
       "      <td>0.109646</td>\n",
       "      <td>0.095162</td>\n",
       "      <td>46.92</td>\n",
       "      <td>0</td>\n",
       "    </tr>\n",
       "    <tr>\n",
       "      <td>4</td>\n",
       "      <td>21750</td>\n",
       "      <td>31838.0</td>\n",
       "      <td>-3.269965</td>\n",
       "      <td>-3.058706</td>\n",
       "      <td>3.690959</td>\n",
       "      <td>4.087592</td>\n",
       "      <td>2.304401</td>\n",
       "      <td>1.248519</td>\n",
       "      <td>-3.111997</td>\n",
       "      <td>1.455856</td>\n",
       "      <td>...</td>\n",
       "      <td>0.525970</td>\n",
       "      <td>1.174842</td>\n",
       "      <td>0.599197</td>\n",
       "      <td>-0.595380</td>\n",
       "      <td>0.035730</td>\n",
       "      <td>0.660886</td>\n",
       "      <td>0.352391</td>\n",
       "      <td>0.223467</td>\n",
       "      <td>76.44</td>\n",
       "      <td>0</td>\n",
       "    </tr>\n",
       "  </tbody>\n",
       "</table>\n",
       "<p>5 rows × 32 columns</p>\n",
       "</div>"
      ],
      "text/plain": [
       "   Unnamed: 0      Time        V1        V2        V3        V4        V5  \\\n",
       "0      134840   80990.0 -2.444260  2.585654  0.268899  0.988650 -0.602195   \n",
       "1       60107   49162.0 -0.600425  0.507376  1.315834  0.477573 -0.978872   \n",
       "2      171094  120496.0  1.937401 -0.628340 -0.769127  0.289363 -0.285919   \n",
       "3        6965    9051.0 -0.692043  0.628297  1.755697  1.426988  0.507462   \n",
       "4       21750   31838.0 -3.269965 -3.058706  3.690959  4.087592  2.304401   \n",
       "\n",
       "         V6        V7        V8  ...       V21       V22       V23       V24  \\\n",
       "0 -0.565556  0.112191  0.332103  ... -0.160517 -0.429796 -0.008273  0.264212   \n",
       "1  0.044558  0.110615  0.559529  ...  0.126634  0.402120  0.173389  0.600582   \n",
       "2  0.237501 -0.628537  0.087615  ...  0.165889  0.564984  0.021425  0.048119   \n",
       "3  0.875312  0.303436  0.335085  ... -0.055277  0.154263 -0.068650 -0.364108   \n",
       "4  1.248519 -3.111997  1.455856  ...  0.525970  1.174842  0.599197 -0.595380   \n",
       "\n",
       "        V25       V26       V27       V28  Amount  Class  \n",
       "0 -0.185336 -0.662864 -1.583215 -0.548640    9.55      0  \n",
       "1 -0.232857  0.280839 -0.096289 -0.026369   93.43      0  \n",
       "2 -0.010319 -0.207181  0.023493 -0.028608   61.75      0  \n",
       "3 -0.015503 -0.215139  0.109646  0.095162   46.92      0  \n",
       "4  0.035730  0.660886  0.352391  0.223467   76.44      0  \n",
       "\n",
       "[5 rows x 32 columns]"
      ]
     },
     "execution_count": 24,
     "metadata": {},
     "output_type": "execute_result"
    }
   ],
   "source": [
    "newData = pd.read_csv(\"NewCreditCard.csv\")\n",
    "\n",
    "newData.head()"
   ]
  },
  {
   "cell_type": "code",
   "execution_count": 25,
   "metadata": {},
   "outputs": [
    {
     "data": {
      "text/html": [
       "<div>\n",
       "<style scoped>\n",
       "    .dataframe tbody tr th:only-of-type {\n",
       "        vertical-align: middle;\n",
       "    }\n",
       "\n",
       "    .dataframe tbody tr th {\n",
       "        vertical-align: top;\n",
       "    }\n",
       "\n",
       "    .dataframe thead th {\n",
       "        text-align: right;\n",
       "    }\n",
       "</style>\n",
       "<table border=\"1\" class=\"dataframe\">\n",
       "  <thead>\n",
       "    <tr style=\"text-align: right;\">\n",
       "      <th></th>\n",
       "      <th>Time</th>\n",
       "      <th>V1</th>\n",
       "      <th>V2</th>\n",
       "      <th>V3</th>\n",
       "      <th>V4</th>\n",
       "      <th>V5</th>\n",
       "      <th>V6</th>\n",
       "      <th>V7</th>\n",
       "      <th>V8</th>\n",
       "      <th>V9</th>\n",
       "      <th>...</th>\n",
       "      <th>V21</th>\n",
       "      <th>V22</th>\n",
       "      <th>V23</th>\n",
       "      <th>V24</th>\n",
       "      <th>V25</th>\n",
       "      <th>V26</th>\n",
       "      <th>V27</th>\n",
       "      <th>V28</th>\n",
       "      <th>Amount</th>\n",
       "      <th>Class</th>\n",
       "    </tr>\n",
       "  </thead>\n",
       "  <tbody>\n",
       "    <tr>\n",
       "      <td>0</td>\n",
       "      <td>80990.0</td>\n",
       "      <td>-2.444260</td>\n",
       "      <td>2.585654</td>\n",
       "      <td>0.268899</td>\n",
       "      <td>0.988650</td>\n",
       "      <td>-0.602195</td>\n",
       "      <td>-0.565556</td>\n",
       "      <td>0.112191</td>\n",
       "      <td>0.332103</td>\n",
       "      <td>0.591638</td>\n",
       "      <td>...</td>\n",
       "      <td>-0.160517</td>\n",
       "      <td>-0.429796</td>\n",
       "      <td>-0.008273</td>\n",
       "      <td>0.264212</td>\n",
       "      <td>-0.185336</td>\n",
       "      <td>-0.662864</td>\n",
       "      <td>-1.583215</td>\n",
       "      <td>-0.548640</td>\n",
       "      <td>9.55</td>\n",
       "      <td>0</td>\n",
       "    </tr>\n",
       "    <tr>\n",
       "      <td>1</td>\n",
       "      <td>49162.0</td>\n",
       "      <td>-0.600425</td>\n",
       "      <td>0.507376</td>\n",
       "      <td>1.315834</td>\n",
       "      <td>0.477573</td>\n",
       "      <td>-0.978872</td>\n",
       "      <td>0.044558</td>\n",
       "      <td>0.110615</td>\n",
       "      <td>0.559529</td>\n",
       "      <td>-0.057982</td>\n",
       "      <td>...</td>\n",
       "      <td>0.126634</td>\n",
       "      <td>0.402120</td>\n",
       "      <td>0.173389</td>\n",
       "      <td>0.600582</td>\n",
       "      <td>-0.232857</td>\n",
       "      <td>0.280839</td>\n",
       "      <td>-0.096289</td>\n",
       "      <td>-0.026369</td>\n",
       "      <td>93.43</td>\n",
       "      <td>0</td>\n",
       "    </tr>\n",
       "    <tr>\n",
       "      <td>2</td>\n",
       "      <td>120496.0</td>\n",
       "      <td>1.937401</td>\n",
       "      <td>-0.628340</td>\n",
       "      <td>-0.769127</td>\n",
       "      <td>0.289363</td>\n",
       "      <td>-0.285919</td>\n",
       "      <td>0.237501</td>\n",
       "      <td>-0.628537</td>\n",
       "      <td>0.087615</td>\n",
       "      <td>1.560418</td>\n",
       "      <td>...</td>\n",
       "      <td>0.165889</td>\n",
       "      <td>0.564984</td>\n",
       "      <td>0.021425</td>\n",
       "      <td>0.048119</td>\n",
       "      <td>-0.010319</td>\n",
       "      <td>-0.207181</td>\n",
       "      <td>0.023493</td>\n",
       "      <td>-0.028608</td>\n",
       "      <td>61.75</td>\n",
       "      <td>0</td>\n",
       "    </tr>\n",
       "    <tr>\n",
       "      <td>3</td>\n",
       "      <td>9051.0</td>\n",
       "      <td>-0.692043</td>\n",
       "      <td>0.628297</td>\n",
       "      <td>1.755697</td>\n",
       "      <td>1.426988</td>\n",
       "      <td>0.507462</td>\n",
       "      <td>0.875312</td>\n",
       "      <td>0.303436</td>\n",
       "      <td>0.335085</td>\n",
       "      <td>0.681058</td>\n",
       "      <td>...</td>\n",
       "      <td>-0.055277</td>\n",
       "      <td>0.154263</td>\n",
       "      <td>-0.068650</td>\n",
       "      <td>-0.364108</td>\n",
       "      <td>-0.015503</td>\n",
       "      <td>-0.215139</td>\n",
       "      <td>0.109646</td>\n",
       "      <td>0.095162</td>\n",
       "      <td>46.92</td>\n",
       "      <td>0</td>\n",
       "    </tr>\n",
       "    <tr>\n",
       "      <td>4</td>\n",
       "      <td>31838.0</td>\n",
       "      <td>-3.269965</td>\n",
       "      <td>-3.058706</td>\n",
       "      <td>3.690959</td>\n",
       "      <td>4.087592</td>\n",
       "      <td>2.304401</td>\n",
       "      <td>1.248519</td>\n",
       "      <td>-3.111997</td>\n",
       "      <td>1.455856</td>\n",
       "      <td>0.590570</td>\n",
       "      <td>...</td>\n",
       "      <td>0.525970</td>\n",
       "      <td>1.174842</td>\n",
       "      <td>0.599197</td>\n",
       "      <td>-0.595380</td>\n",
       "      <td>0.035730</td>\n",
       "      <td>0.660886</td>\n",
       "      <td>0.352391</td>\n",
       "      <td>0.223467</td>\n",
       "      <td>76.44</td>\n",
       "      <td>0</td>\n",
       "    </tr>\n",
       "  </tbody>\n",
       "</table>\n",
       "<p>5 rows × 31 columns</p>\n",
       "</div>"
      ],
      "text/plain": [
       "       Time        V1        V2        V3        V4        V5        V6  \\\n",
       "0   80990.0 -2.444260  2.585654  0.268899  0.988650 -0.602195 -0.565556   \n",
       "1   49162.0 -0.600425  0.507376  1.315834  0.477573 -0.978872  0.044558   \n",
       "2  120496.0  1.937401 -0.628340 -0.769127  0.289363 -0.285919  0.237501   \n",
       "3    9051.0 -0.692043  0.628297  1.755697  1.426988  0.507462  0.875312   \n",
       "4   31838.0 -3.269965 -3.058706  3.690959  4.087592  2.304401  1.248519   \n",
       "\n",
       "         V7        V8        V9  ...       V21       V22       V23       V24  \\\n",
       "0  0.112191  0.332103  0.591638  ... -0.160517 -0.429796 -0.008273  0.264212   \n",
       "1  0.110615  0.559529 -0.057982  ...  0.126634  0.402120  0.173389  0.600582   \n",
       "2 -0.628537  0.087615  1.560418  ...  0.165889  0.564984  0.021425  0.048119   \n",
       "3  0.303436  0.335085  0.681058  ... -0.055277  0.154263 -0.068650 -0.364108   \n",
       "4 -3.111997  1.455856  0.590570  ...  0.525970  1.174842  0.599197 -0.595380   \n",
       "\n",
       "        V25       V26       V27       V28  Amount  Class  \n",
       "0 -0.185336 -0.662864 -1.583215 -0.548640    9.55      0  \n",
       "1 -0.232857  0.280839 -0.096289 -0.026369   93.43      0  \n",
       "2 -0.010319 -0.207181  0.023493 -0.028608   61.75      0  \n",
       "3 -0.015503 -0.215139  0.109646  0.095162   46.92      0  \n",
       "4  0.035730  0.660886  0.352391  0.223467   76.44      0  \n",
       "\n",
       "[5 rows x 31 columns]"
      ]
     },
     "execution_count": 25,
     "metadata": {},
     "output_type": "execute_result"
    }
   ],
   "source": [
    "FinalData = newData.drop(\"Unnamed: 0\", axis = 1)\n",
    "\n",
    "FinalData.head()"
   ]
  },
  {
   "cell_type": "code",
   "execution_count": 26,
   "metadata": {},
   "outputs": [
    {
     "data": {
      "text/plain": [
       "(50000, 31)"
      ]
     },
     "execution_count": 26,
     "metadata": {},
     "output_type": "execute_result"
    }
   ],
   "source": [
    "FinalData.shape"
   ]
  },
  {
   "cell_type": "code",
   "execution_count": 27,
   "metadata": {},
   "outputs": [
    {
     "data": {
      "text/plain": [
       "array([ 1,  1,  1, ..., -1, -1,  1])"
      ]
     },
     "execution_count": 27,
     "metadata": {},
     "output_type": "execute_result"
    }
   ],
   "source": [
    "lof = LocalOutlierFactor(n_neighbors=3, algorithm='auto', metric='minkowski', p=2, metric_params=None, contamination=0.5, n_jobs=1)\n",
    "\n",
    "outlierArray = lof.fit_predict(FinalData)\n",
    "\n",
    "outlierArray"
   ]
  },
  {
   "cell_type": "code",
   "execution_count": 28,
   "metadata": {},
   "outputs": [
    {
     "data": {
      "text/plain": [
       "50000"
      ]
     },
     "execution_count": 28,
     "metadata": {},
     "output_type": "execute_result"
    }
   ],
   "source": [
    "len(outlierArray)"
   ]
  },
  {
   "cell_type": "markdown",
   "metadata": {},
   "source": [
    "### Calculating total number of outlier and inliers"
   ]
  },
  {
   "cell_type": "code",
   "execution_count": 29,
   "metadata": {},
   "outputs": [
    {
     "name": "stdout",
     "output_type": "stream",
     "text": [
      "Total number of outliers = 25000\n",
      "Total number of inliers = 25000\n"
     ]
    }
   ],
   "source": [
    "countOutliers = 0\n",
    "countInliers = 0\n",
    "for i in range(50000):\n",
    "    if outlierArray[i] == -1:\n",
    "        countOutliers += 1\n",
    "    else:\n",
    "        countInliers += 1\n",
    "print(\"Total number of outliers = \"+str(countOutliers))\n",
    "print(\"Total number of inliers = \"+str(countInliers))"
   ]
  },
  {
   "cell_type": "code",
   "execution_count": 30,
   "metadata": {},
   "outputs": [],
   "source": [
    "FinalData2 = FinalData.copy()"
   ]
  },
  {
   "cell_type": "code",
   "execution_count": 31,
   "metadata": {},
   "outputs": [
    {
     "data": {
      "text/plain": [
       "(50000, 31)"
      ]
     },
     "execution_count": 31,
     "metadata": {},
     "output_type": "execute_result"
    }
   ],
   "source": [
    "FinalData2.shape"
   ]
  },
  {
   "cell_type": "markdown",
   "metadata": {},
   "source": [
    "### Removing Outliers"
   ]
  },
  {
   "cell_type": "code",
   "execution_count": 32,
   "metadata": {},
   "outputs": [
    {
     "data": {
      "text/html": [
       "<div>\n",
       "<style scoped>\n",
       "    .dataframe tbody tr th:only-of-type {\n",
       "        vertical-align: middle;\n",
       "    }\n",
       "\n",
       "    .dataframe tbody tr th {\n",
       "        vertical-align: top;\n",
       "    }\n",
       "\n",
       "    .dataframe thead th {\n",
       "        text-align: right;\n",
       "    }\n",
       "</style>\n",
       "<table border=\"1\" class=\"dataframe\">\n",
       "  <thead>\n",
       "    <tr style=\"text-align: right;\">\n",
       "      <th></th>\n",
       "      <th>Time</th>\n",
       "      <th>V1</th>\n",
       "      <th>V2</th>\n",
       "      <th>V3</th>\n",
       "      <th>V4</th>\n",
       "      <th>V5</th>\n",
       "      <th>V6</th>\n",
       "      <th>V7</th>\n",
       "      <th>V8</th>\n",
       "      <th>V9</th>\n",
       "      <th>...</th>\n",
       "      <th>V21</th>\n",
       "      <th>V22</th>\n",
       "      <th>V23</th>\n",
       "      <th>V24</th>\n",
       "      <th>V25</th>\n",
       "      <th>V26</th>\n",
       "      <th>V27</th>\n",
       "      <th>V28</th>\n",
       "      <th>Amount</th>\n",
       "      <th>Class</th>\n",
       "    </tr>\n",
       "  </thead>\n",
       "  <tbody>\n",
       "    <tr>\n",
       "      <td>0</td>\n",
       "      <td>80990.0</td>\n",
       "      <td>-2.444260</td>\n",
       "      <td>2.585654</td>\n",
       "      <td>0.268899</td>\n",
       "      <td>0.988650</td>\n",
       "      <td>-0.602195</td>\n",
       "      <td>-0.565556</td>\n",
       "      <td>0.112191</td>\n",
       "      <td>0.332103</td>\n",
       "      <td>0.591638</td>\n",
       "      <td>...</td>\n",
       "      <td>-0.160517</td>\n",
       "      <td>-0.429796</td>\n",
       "      <td>-0.008273</td>\n",
       "      <td>0.264212</td>\n",
       "      <td>-0.185336</td>\n",
       "      <td>-0.662864</td>\n",
       "      <td>-1.583215</td>\n",
       "      <td>-0.548640</td>\n",
       "      <td>9.55</td>\n",
       "      <td>0</td>\n",
       "    </tr>\n",
       "    <tr>\n",
       "      <td>1</td>\n",
       "      <td>49162.0</td>\n",
       "      <td>-0.600425</td>\n",
       "      <td>0.507376</td>\n",
       "      <td>1.315834</td>\n",
       "      <td>0.477573</td>\n",
       "      <td>-0.978872</td>\n",
       "      <td>0.044558</td>\n",
       "      <td>0.110615</td>\n",
       "      <td>0.559529</td>\n",
       "      <td>-0.057982</td>\n",
       "      <td>...</td>\n",
       "      <td>0.126634</td>\n",
       "      <td>0.402120</td>\n",
       "      <td>0.173389</td>\n",
       "      <td>0.600582</td>\n",
       "      <td>-0.232857</td>\n",
       "      <td>0.280839</td>\n",
       "      <td>-0.096289</td>\n",
       "      <td>-0.026369</td>\n",
       "      <td>93.43</td>\n",
       "      <td>0</td>\n",
       "    </tr>\n",
       "    <tr>\n",
       "      <td>2</td>\n",
       "      <td>120496.0</td>\n",
       "      <td>1.937401</td>\n",
       "      <td>-0.628340</td>\n",
       "      <td>-0.769127</td>\n",
       "      <td>0.289363</td>\n",
       "      <td>-0.285919</td>\n",
       "      <td>0.237501</td>\n",
       "      <td>-0.628537</td>\n",
       "      <td>0.087615</td>\n",
       "      <td>1.560418</td>\n",
       "      <td>...</td>\n",
       "      <td>0.165889</td>\n",
       "      <td>0.564984</td>\n",
       "      <td>0.021425</td>\n",
       "      <td>0.048119</td>\n",
       "      <td>-0.010319</td>\n",
       "      <td>-0.207181</td>\n",
       "      <td>0.023493</td>\n",
       "      <td>-0.028608</td>\n",
       "      <td>61.75</td>\n",
       "      <td>0</td>\n",
       "    </tr>\n",
       "    <tr>\n",
       "      <td>3</td>\n",
       "      <td>9051.0</td>\n",
       "      <td>-0.692043</td>\n",
       "      <td>0.628297</td>\n",
       "      <td>1.755697</td>\n",
       "      <td>1.426988</td>\n",
       "      <td>0.507462</td>\n",
       "      <td>0.875312</td>\n",
       "      <td>0.303436</td>\n",
       "      <td>0.335085</td>\n",
       "      <td>0.681058</td>\n",
       "      <td>...</td>\n",
       "      <td>-0.055277</td>\n",
       "      <td>0.154263</td>\n",
       "      <td>-0.068650</td>\n",
       "      <td>-0.364108</td>\n",
       "      <td>-0.015503</td>\n",
       "      <td>-0.215139</td>\n",
       "      <td>0.109646</td>\n",
       "      <td>0.095162</td>\n",
       "      <td>46.92</td>\n",
       "      <td>0</td>\n",
       "    </tr>\n",
       "    <tr>\n",
       "      <td>4</td>\n",
       "      <td>31838.0</td>\n",
       "      <td>-3.269965</td>\n",
       "      <td>-3.058706</td>\n",
       "      <td>3.690959</td>\n",
       "      <td>4.087592</td>\n",
       "      <td>2.304401</td>\n",
       "      <td>1.248519</td>\n",
       "      <td>-3.111997</td>\n",
       "      <td>1.455856</td>\n",
       "      <td>0.590570</td>\n",
       "      <td>...</td>\n",
       "      <td>0.525970</td>\n",
       "      <td>1.174842</td>\n",
       "      <td>0.599197</td>\n",
       "      <td>-0.595380</td>\n",
       "      <td>0.035730</td>\n",
       "      <td>0.660886</td>\n",
       "      <td>0.352391</td>\n",
       "      <td>0.223467</td>\n",
       "      <td>76.44</td>\n",
       "      <td>0</td>\n",
       "    </tr>\n",
       "  </tbody>\n",
       "</table>\n",
       "<p>5 rows × 31 columns</p>\n",
       "</div>"
      ],
      "text/plain": [
       "       Time        V1        V2        V3        V4        V5        V6  \\\n",
       "0   80990.0 -2.444260  2.585654  0.268899  0.988650 -0.602195 -0.565556   \n",
       "1   49162.0 -0.600425  0.507376  1.315834  0.477573 -0.978872  0.044558   \n",
       "2  120496.0  1.937401 -0.628340 -0.769127  0.289363 -0.285919  0.237501   \n",
       "3    9051.0 -0.692043  0.628297  1.755697  1.426988  0.507462  0.875312   \n",
       "4   31838.0 -3.269965 -3.058706  3.690959  4.087592  2.304401  1.248519   \n",
       "\n",
       "         V7        V8        V9  ...       V21       V22       V23       V24  \\\n",
       "0  0.112191  0.332103  0.591638  ... -0.160517 -0.429796 -0.008273  0.264212   \n",
       "1  0.110615  0.559529 -0.057982  ...  0.126634  0.402120  0.173389  0.600582   \n",
       "2 -0.628537  0.087615  1.560418  ...  0.165889  0.564984  0.021425  0.048119   \n",
       "3  0.303436  0.335085  0.681058  ... -0.055277  0.154263 -0.068650 -0.364108   \n",
       "4 -3.111997  1.455856  0.590570  ...  0.525970  1.174842  0.599197 -0.595380   \n",
       "\n",
       "        V25       V26       V27       V28  Amount  Class  \n",
       "0 -0.185336 -0.662864 -1.583215 -0.548640    9.55      0  \n",
       "1 -0.232857  0.280839 -0.096289 -0.026369   93.43      0  \n",
       "2 -0.010319 -0.207181  0.023493 -0.028608   61.75      0  \n",
       "3 -0.015503 -0.215139  0.109646  0.095162   46.92      0  \n",
       "4  0.035730  0.660886  0.352391  0.223467   76.44      0  \n",
       "\n",
       "[5 rows x 31 columns]"
      ]
     },
     "execution_count": 32,
     "metadata": {},
     "output_type": "execute_result"
    }
   ],
   "source": [
    "for i in range(50000):\n",
    "    if outlierArray[i] == -2:\n",
    "        FinalData.drop(i, inplace = True)\n",
    "FinalData.head()"
   ]
  },
  {
   "cell_type": "code",
   "execution_count": 33,
   "metadata": {},
   "outputs": [
    {
     "data": {
      "text/plain": [
       "(50000, 31)"
      ]
     },
     "execution_count": 33,
     "metadata": {},
     "output_type": "execute_result"
    }
   ],
   "source": [
    "FinalData2.shape"
   ]
  },
  {
   "cell_type": "code",
   "execution_count": 34,
   "metadata": {},
   "outputs": [
    {
     "data": {
      "text/plain": [
       "(50000, 31)"
      ]
     },
     "execution_count": 34,
     "metadata": {},
     "output_type": "execute_result"
    }
   ],
   "source": [
    "FinalData.shape"
   ]
  },
  {
   "cell_type": "code",
   "execution_count": 35,
   "metadata": {},
   "outputs": [
    {
     "data": {
      "image/png": "[encoded data removed]",
      "text/plain": [
       "<Figure size 1152x432 with 2 Axes>"
      ]
     },
     "metadata": {
      "needs_background": "light"
     },
     "output_type": "display_data"
    }
   ],
   "source": [
    "fig = plt.figure(figsize = (16,6))\n",
    "\n",
    "plt.subplot(1, 2, 1)\n",
    "plt.title(\"Before removing outliers for column V1\")\n",
    "ax = sns.boxplot(x=\"Class\", y = \"V1\", data= FinalData2, hue = \"Class\")\n",
    "\n",
    "plt.subplot(1, 2, 2)\n",
    "plt.title(\"After removing outliers for column V1\")\n",
    "ax = sns.boxplot(x=\"Class\", y = \"V1\", data= FinalData, hue = \"Class\")"
   ]
  },
  {
   "cell_type": "code",
   "execution_count": 36,
   "metadata": {},
   "outputs": [
    {
     "data": {
      "image/png": "[encoded data removed]",
      "text/plain": [
       "<Figure size 1152x432 with 2 Axes>"
      ]
     },
     "metadata": {
      "needs_background": "light"
     },
     "output_type": "display_data"
    }
   ],
   "source": [
    "fig = plt.figure(figsize = (16,6))\n",
    "\n",
    "plt.subplot(1, 2, 1)\n",
    "plt.title(\"Before removing outliers for column V2\")\n",
    "ax = sns.boxplot(x=\"Class\", y = \"V2\", data= FinalData2, hue = \"Class\")\n",
    "\n",
    "plt.subplot(1, 2, 2)\n",
    "plt.title(\"After removing outliers for column V2\")\n",
    "ax = sns.boxplot(x=\"Class\", y = \"V2\", data= FinalData, hue = \"Class\")"
   ]
  },
  {
   "cell_type": "code",
   "execution_count": 37,
   "metadata": {},
   "outputs": [
    {
     "data": {
      "image/png": "[encoded data removed]",
      "text/plain": [
       "<Figure size 1152x432 with 2 Axes>"
      ]
     },
     "metadata": {
      "needs_background": "light"
     },
     "output_type": "display_data"
    }
   ],
   "source": [
    "fig = plt.figure(figsize = (16,6))\n",
    "\n",
    "plt.subplot(1, 2, 1)\n",
    "plt.title(\"Before removing outliers for column V3\")\n",
    "ax = sns.boxplot(x=\"Class\", y = \"V3\", data= FinalData2, hue = \"Class\")\n",
    "\n",
    "plt.subplot(1, 2, 2)\n",
    "plt.title(\"After removing outliers for column V3\")\n",
    "ax = sns.boxplot(x=\"Class\", y = \"V3\", data= FinalData, hue = \"Class\")"
   ]
  },
  {
   "cell_type": "code",
   "execution_count": 38,
   "metadata": {},
   "outputs": [
    {
     "data": {
      "image/png": "[encoded data removed]",
      "text/plain": [
       "<Figure size 1152x432 with 2 Axes>"
      ]
     },
     "metadata": {
      "needs_background": "light"
     },
     "output_type": "display_data"
    }
   ],
   "source": [
    "fig = plt.figure(figsize = (16,6))\n",
    "\n",
    "plt.subplot(1, 2, 1)\n",
    "plt.title(\"Before removing outliers for column V4\")\n",
    "ax = sns.boxplot(x=\"Class\", y = \"V4\", data= FinalData2, hue = \"Class\")\n",
    "\n",
    "plt.subplot(1, 2, 2)\n",
    "plt.title(\"After removing outliers for column V4\")\n",
    "ax = sns.boxplot(x=\"Class\", y = \"V4\", data= FinalData, hue = \"Class\")"
   ]
  },
  {
   "cell_type": "code",
   "execution_count": 39,
   "metadata": {},
   "outputs": [
    {
     "data": {
      "image/png": "[encoded data removed]",
      "text/plain": [
       "<Figure size 1152x432 with 2 Axes>"
      ]
     },
     "metadata": {
      "needs_background": "light"
     },
     "output_type": "display_data"
    }
   ],
   "source": [
    "fig = plt.figure(figsize = (16,6))\n",
    "\n",
    "plt.subplot(1, 2, 1)\n",
    "plt.title(\"Before removing outliers for column V5\")\n",
    "ax = sns.boxplot(x=\"Class\", y = \"V5\", data= FinalData2, hue = \"Class\")\n",
    "\n",
    "plt.subplot(1, 2, 2)\n",
    "plt.title(\"After removing outliers for column V5\")\n",
    "ax = sns.boxplot(x=\"Class\", y = \"V5\", data= FinalData, hue = \"Class\")"
   ]
  },
  {
   "cell_type": "markdown",
   "metadata": {},
   "source": [
    "It can easily be observed in all of the above boxplots corresponding to columns V1, V2, V3, V4, V5, that most of the outliers for points belongs to class 1 has been removed. Furthermore, many of the outliers for points belong to class 0 has also been removed. For example for class 0 in plot 1 for column V1 all of the outliers less than -35 have been removed. Similarly, for class 0 in plot 3 for column V3 all the outliers less than -18 have been removed. Similarly, for class 0 in plot 5 for column V5 all of the outliers greater than 15 have been removed.\n",
    "\n",
    "## Detecting outliers for 'k' value 5\n",
    "We have assumed that 50% of total points in our data set are outliers."
   ]
  },
  {
   "cell_type": "code",
   "execution_count": 40,
   "metadata": {},
   "outputs": [
    {
     "data": {
      "text/html": [
       "<div>\n",
       "<style scoped>\n",
       "    .dataframe tbody tr th:only-of-type {\n",
       "        vertical-align: middle;\n",
       "    }\n",
       "\n",
       "    .dataframe tbody tr th {\n",
       "        vertical-align: top;\n",
       "    }\n",
       "\n",
       "    .dataframe thead th {\n",
       "        text-align: right;\n",
       "    }\n",
       "</style>\n",
       "<table border=\"1\" class=\"dataframe\">\n",
       "  <thead>\n",
       "    <tr style=\"text-align: right;\">\n",
       "      <th></th>\n",
       "      <th>Unnamed: 0</th>\n",
       "      <th>Time</th>\n",
       "      <th>V1</th>\n",
       "      <th>V2</th>\n",
       "      <th>V3</th>\n",
       "      <th>V4</th>\n",
       "      <th>V5</th>\n",
       "      <th>V6</th>\n",
       "      <th>V7</th>\n",
       "      <th>V8</th>\n",
       "      <th>...</th>\n",
       "      <th>V21</th>\n",
       "      <th>V22</th>\n",
       "      <th>V23</th>\n",
       "      <th>V24</th>\n",
       "      <th>V25</th>\n",
       "      <th>V26</th>\n",
       "      <th>V27</th>\n",
       "      <th>V28</th>\n",
       "      <th>Amount</th>\n",
       "      <th>Class</th>\n",
       "    </tr>\n",
       "  </thead>\n",
       "  <tbody>\n",
       "    <tr>\n",
       "      <td>0</td>\n",
       "      <td>134840</td>\n",
       "      <td>80990.0</td>\n",
       "      <td>-2.444260</td>\n",
       "      <td>2.585654</td>\n",
       "      <td>0.268899</td>\n",
       "      <td>0.988650</td>\n",
       "      <td>-0.602195</td>\n",
       "      <td>-0.565556</td>\n",
       "      <td>0.112191</td>\n",
       "      <td>0.332103</td>\n",
       "      <td>...</td>\n",
       "      <td>-0.160517</td>\n",
       "      <td>-0.429796</td>\n",
       "      <td>-0.008273</td>\n",
       "      <td>0.264212</td>\n",
       "      <td>-0.185336</td>\n",
       "      <td>-0.662864</td>\n",
       "      <td>-1.583215</td>\n",
       "      <td>-0.548640</td>\n",
       "      <td>9.55</td>\n",
       "      <td>0</td>\n",
       "    </tr>\n",
       "    <tr>\n",
       "      <td>1</td>\n",
       "      <td>60107</td>\n",
       "      <td>49162.0</td>\n",
       "      <td>-0.600425</td>\n",
       "      <td>0.507376</td>\n",
       "      <td>1.315834</td>\n",
       "      <td>0.477573</td>\n",
       "      <td>-0.978872</td>\n",
       "      <td>0.044558</td>\n",
       "      <td>0.110615</td>\n",
       "      <td>0.559529</td>\n",
       "      <td>...</td>\n",
       "      <td>0.126634</td>\n",
       "      <td>0.402120</td>\n",
       "      <td>0.173389</td>\n",
       "      <td>0.600582</td>\n",
       "      <td>-0.232857</td>\n",
       "      <td>0.280839</td>\n",
       "      <td>-0.096289</td>\n",
       "      <td>-0.026369</td>\n",
       "      <td>93.43</td>\n",
       "      <td>0</td>\n",
       "    </tr>\n",
       "    <tr>\n",
       "      <td>2</td>\n",
       "      <td>171094</td>\n",
       "      <td>120496.0</td>\n",
       "      <td>1.937401</td>\n",
       "      <td>-0.628340</td>\n",
       "      <td>-0.769127</td>\n",
       "      <td>0.289363</td>\n",
       "      <td>-0.285919</td>\n",
       "      <td>0.237501</td>\n",
       "      <td>-0.628537</td>\n",
       "      <td>0.087615</td>\n",
       "      <td>...</td>\n",
       "      <td>0.165889</td>\n",
       "      <td>0.564984</td>\n",
       "      <td>0.021425</td>\n",
       "      <td>0.048119</td>\n",
       "      <td>-0.010319</td>\n",
       "      <td>-0.207181</td>\n",
       "      <td>0.023493</td>\n",
       "      <td>-0.028608</td>\n",
       "      <td>61.75</td>\n",
       "      <td>0</td>\n",
       "    </tr>\n",
       "    <tr>\n",
       "      <td>3</td>\n",
       "      <td>6965</td>\n",
       "      <td>9051.0</td>\n",
       "      <td>-0.692043</td>\n",
       "      <td>0.628297</td>\n",
       "      <td>1.755697</td>\n",
       "      <td>1.426988</td>\n",
       "      <td>0.507462</td>\n",
       "      <td>0.875312</td>\n",
       "      <td>0.303436</td>\n",
       "      <td>0.335085</td>\n",
       "      <td>...</td>\n",
       "      <td>-0.055277</td>\n",
       "      <td>0.154263</td>\n",
       "      <td>-0.068650</td>\n",
       "      <td>-0.364108</td>\n",
       "      <td>-0.015503</td>\n",
       "      <td>-0.215139</td>\n",
       "      <td>0.109646</td>\n",
       "      <td>0.095162</td>\n",
       "      <td>46.92</td>\n",
       "      <td>0</td>\n",
       "    </tr>\n",
       "    <tr>\n",
       "      <td>4</td>\n",
       "      <td>21750</td>\n",
       "      <td>31838.0</td>\n",
       "      <td>-3.269965</td>\n",
       "      <td>-3.058706</td>\n",
       "      <td>3.690959</td>\n",
       "      <td>4.087592</td>\n",
       "      <td>2.304401</td>\n",
       "      <td>1.248519</td>\n",
       "      <td>-3.111997</td>\n",
       "      <td>1.455856</td>\n",
       "      <td>...</td>\n",
       "      <td>0.525970</td>\n",
       "      <td>1.174842</td>\n",
       "      <td>0.599197</td>\n",
       "      <td>-0.595380</td>\n",
       "      <td>0.035730</td>\n",
       "      <td>0.660886</td>\n",
       "      <td>0.352391</td>\n",
       "      <td>0.223467</td>\n",
       "      <td>76.44</td>\n",
       "      <td>0</td>\n",
       "    </tr>\n",
       "  </tbody>\n",
       "</table>\n",
       "<p>5 rows × 32 columns</p>\n",
       "</div>"
      ],
      "text/plain": [
       "   Unnamed: 0      Time        V1        V2        V3        V4        V5  \\\n",
       "0      134840   80990.0 -2.444260  2.585654  0.268899  0.988650 -0.602195   \n",
       "1       60107   49162.0 -0.600425  0.507376  1.315834  0.477573 -0.978872   \n",
       "2      171094  120496.0  1.937401 -0.628340 -0.769127  0.289363 -0.285919   \n",
       "3        6965    9051.0 -0.692043  0.628297  1.755697  1.426988  0.507462   \n",
       "4       21750   31838.0 -3.269965 -3.058706  3.690959  4.087592  2.304401   \n",
       "\n",
       "         V6        V7        V8  ...       V21       V22       V23       V24  \\\n",
       "0 -0.565556  0.112191  0.332103  ... -0.160517 -0.429796 -0.008273  0.264212   \n",
       "1  0.044558  0.110615  0.559529  ...  0.126634  0.402120  0.173389  0.600582   \n",
       "2  0.237501 -0.628537  0.087615  ...  0.165889  0.564984  0.021425  0.048119   \n",
       "3  0.875312  0.303436  0.335085  ... -0.055277  0.154263 -0.068650 -0.364108   \n",
       "4  1.248519 -3.111997  1.455856  ...  0.525970  1.174842  0.599197 -0.595380   \n",
       "\n",
       "        V25       V26       V27       V28  Amount  Class  \n",
       "0 -0.185336 -0.662864 -1.583215 -0.548640    9.55      0  \n",
       "1 -0.232857  0.280839 -0.096289 -0.026369   93.43      0  \n",
       "2 -0.010319 -0.207181  0.023493 -0.028608   61.75      0  \n",
       "3 -0.015503 -0.215139  0.109646  0.095162   46.92      0  \n",
       "4  0.035730  0.660886  0.352391  0.223467   76.44      0  \n",
       "\n",
       "[5 rows x 32 columns]"
      ]
     },
     "execution_count": 40,
     "metadata": {},
     "output_type": "execute_result"
    }
   ],
   "source": [
    "newData = pd.read_csv(\"NewCreditCard.csv\")\n",
    "\n",
    "newData.head()"
   ]
  },
  {
   "cell_type": "code",
   "execution_count": 41,
   "metadata": {},
   "outputs": [
    {
     "data": {
      "text/html": [
       "<div>\n",
       "<style scoped>\n",
       "    .dataframe tbody tr th:only-of-type {\n",
       "        vertical-align: middle;\n",
       "    }\n",
       "\n",
       "    .dataframe tbody tr th {\n",
       "        vertical-align: top;\n",
       "    }\n",
       "\n",
       "    .dataframe thead th {\n",
       "        text-align: right;\n",
       "    }\n",
       "</style>\n",
       "<table border=\"1\" class=\"dataframe\">\n",
       "  <thead>\n",
       "    <tr style=\"text-align: right;\">\n",
       "      <th></th>\n",
       "      <th>Time</th>\n",
       "      <th>V1</th>\n",
       "      <th>V2</th>\n",
       "      <th>V3</th>\n",
       "      <th>V4</th>\n",
       "      <th>V5</th>\n",
       "      <th>V6</th>\n",
       "      <th>V7</th>\n",
       "      <th>V8</th>\n",
       "      <th>V9</th>\n",
       "      <th>...</th>\n",
       "      <th>V21</th>\n",
       "      <th>V22</th>\n",
       "      <th>V23</th>\n",
       "      <th>V24</th>\n",
       "      <th>V25</th>\n",
       "      <th>V26</th>\n",
       "      <th>V27</th>\n",
       "      <th>V28</th>\n",
       "      <th>Amount</th>\n",
       "      <th>Class</th>\n",
       "    </tr>\n",
       "  </thead>\n",
       "  <tbody>\n",
       "    <tr>\n",
       "      <td>0</td>\n",
       "      <td>80990.0</td>\n",
       "      <td>-2.444260</td>\n",
       "      <td>2.585654</td>\n",
       "      <td>0.268899</td>\n",
       "      <td>0.988650</td>\n",
       "      <td>-0.602195</td>\n",
       "      <td>-0.565556</td>\n",
       "      <td>0.112191</td>\n",
       "      <td>0.332103</td>\n",
       "      <td>0.591638</td>\n",
       "      <td>...</td>\n",
       "      <td>-0.160517</td>\n",
       "      <td>-0.429796</td>\n",
       "      <td>-0.008273</td>\n",
       "      <td>0.264212</td>\n",
       "      <td>-0.185336</td>\n",
       "      <td>-0.662864</td>\n",
       "      <td>-1.583215</td>\n",
       "      <td>-0.548640</td>\n",
       "      <td>9.55</td>\n",
       "      <td>0</td>\n",
       "    </tr>\n",
       "    <tr>\n",
       "      <td>1</td>\n",
       "      <td>49162.0</td>\n",
       "      <td>-0.600425</td>\n",
       "      <td>0.507376</td>\n",
       "      <td>1.315834</td>\n",
       "      <td>0.477573</td>\n",
       "      <td>-0.978872</td>\n",
       "      <td>0.044558</td>\n",
       "      <td>0.110615</td>\n",
       "      <td>0.559529</td>\n",
       "      <td>-0.057982</td>\n",
       "      <td>...</td>\n",
       "      <td>0.126634</td>\n",
       "      <td>0.402120</td>\n",
       "      <td>0.173389</td>\n",
       "      <td>0.600582</td>\n",
       "      <td>-0.232857</td>\n",
       "      <td>0.280839</td>\n",
       "      <td>-0.096289</td>\n",
       "      <td>-0.026369</td>\n",
       "      <td>93.43</td>\n",
       "      <td>0</td>\n",
       "    </tr>\n",
       "    <tr>\n",
       "      <td>2</td>\n",
       "      <td>120496.0</td>\n",
       "      <td>1.937401</td>\n",
       "      <td>-0.628340</td>\n",
       "      <td>-0.769127</td>\n",
       "      <td>0.289363</td>\n",
       "      <td>-0.285919</td>\n",
       "      <td>0.237501</td>\n",
       "      <td>-0.628537</td>\n",
       "      <td>0.087615</td>\n",
       "      <td>1.560418</td>\n",
       "      <td>...</td>\n",
       "      <td>0.165889</td>\n",
       "      <td>0.564984</td>\n",
       "      <td>0.021425</td>\n",
       "      <td>0.048119</td>\n",
       "      <td>-0.010319</td>\n",
       "      <td>-0.207181</td>\n",
       "      <td>0.023493</td>\n",
       "      <td>-0.028608</td>\n",
       "      <td>61.75</td>\n",
       "      <td>0</td>\n",
       "    </tr>\n",
       "    <tr>\n",
       "      <td>3</td>\n",
       "      <td>9051.0</td>\n",
       "      <td>-0.692043</td>\n",
       "      <td>0.628297</td>\n",
       "      <td>1.755697</td>\n",
       "      <td>1.426988</td>\n",
       "      <td>0.507462</td>\n",
       "      <td>0.875312</td>\n",
       "      <td>0.303436</td>\n",
       "      <td>0.335085</td>\n",
       "      <td>0.681058</td>\n",
       "      <td>...</td>\n",
       "      <td>-0.055277</td>\n",
       "      <td>0.154263</td>\n",
       "      <td>-0.068650</td>\n",
       "      <td>-0.364108</td>\n",
       "      <td>-0.015503</td>\n",
       "      <td>-0.215139</td>\n",
       "      <td>0.109646</td>\n",
       "      <td>0.095162</td>\n",
       "      <td>46.92</td>\n",
       "      <td>0</td>\n",
       "    </tr>\n",
       "    <tr>\n",
       "      <td>4</td>\n",
       "      <td>31838.0</td>\n",
       "      <td>-3.269965</td>\n",
       "      <td>-3.058706</td>\n",
       "      <td>3.690959</td>\n",
       "      <td>4.087592</td>\n",
       "      <td>2.304401</td>\n",
       "      <td>1.248519</td>\n",
       "      <td>-3.111997</td>\n",
       "      <td>1.455856</td>\n",
       "      <td>0.590570</td>\n",
       "      <td>...</td>\n",
       "      <td>0.525970</td>\n",
       "      <td>1.174842</td>\n",
       "      <td>0.599197</td>\n",
       "      <td>-0.595380</td>\n",
       "      <td>0.035730</td>\n",
       "      <td>0.660886</td>\n",
       "      <td>0.352391</td>\n",
       "      <td>0.223467</td>\n",
       "      <td>76.44</td>\n",
       "      <td>0</td>\n",
       "    </tr>\n",
       "  </tbody>\n",
       "</table>\n",
       "<p>5 rows × 31 columns</p>\n",
       "</div>"
      ],
      "text/plain": [
       "       Time        V1        V2        V3        V4        V5        V6  \\\n",
       "0   80990.0 -2.444260  2.585654  0.268899  0.988650 -0.602195 -0.565556   \n",
       "1   49162.0 -0.600425  0.507376  1.315834  0.477573 -0.978872  0.044558   \n",
       "2  120496.0  1.937401 -0.628340 -0.769127  0.289363 -0.285919  0.237501   \n",
       "3    9051.0 -0.692043  0.628297  1.755697  1.426988  0.507462  0.875312   \n",
       "4   31838.0 -3.269965 -3.058706  3.690959  4.087592  2.304401  1.248519   \n",
       "\n",
       "         V7        V8        V9  ...       V21       V22       V23       V24  \\\n",
       "0  0.112191  0.332103  0.591638  ... -0.160517 -0.429796 -0.008273  0.264212   \n",
       "1  0.110615  0.559529 -0.057982  ...  0.126634  0.402120  0.173389  0.600582   \n",
       "2 -0.628537  0.087615  1.560418  ...  0.165889  0.564984  0.021425  0.048119   \n",
       "3  0.303436  0.335085  0.681058  ... -0.055277  0.154263 -0.068650 -0.364108   \n",
       "4 -3.111997  1.455856  0.590570  ...  0.525970  1.174842  0.599197 -0.595380   \n",
       "\n",
       "        V25       V26       V27       V28  Amount  Class  \n",
       "0 -0.185336 -0.662864 -1.583215 -0.548640    9.55      0  \n",
       "1 -0.232857  0.280839 -0.096289 -0.026369   93.43      0  \n",
       "2 -0.010319 -0.207181  0.023493 -0.028608   61.75      0  \n",
       "3 -0.015503 -0.215139  0.109646  0.095162   46.92      0  \n",
       "4  0.035730  0.660886  0.352391  0.223467   76.44      0  \n",
       "\n",
       "[5 rows x 31 columns]"
      ]
     },
     "execution_count": 41,
     "metadata": {},
     "output_type": "execute_result"
    }
   ],
   "source": [
    "FinalData = newData.drop(\"Unnamed: 0\", axis = 1)\n",
    "\n",
    "FinalData.head()"
   ]
  },
  {
   "cell_type": "code",
   "execution_count": 42,
   "metadata": {},
   "outputs": [
    {
     "data": {
      "text/plain": [
       "(50000, 31)"
      ]
     },
     "execution_count": 42,
     "metadata": {},
     "output_type": "execute_result"
    }
   ],
   "source": [
    "FinalData.shape"
   ]
  },
  {
   "cell_type": "code",
   "execution_count": 43,
   "metadata": {},
   "outputs": [
    {
     "data": {
      "text/plain": [
       "array([ 1,  1,  1, ...,  1, -1,  1])"
      ]
     },
     "execution_count": 43,
     "metadata": {},
     "output_type": "execute_result"
    }
   ],
   "source": [
    "lof = LocalOutlierFactor(n_neighbors=5, algorithm='auto', metric='minkowski', p=2, metric_params=None, contamination=0.5, n_jobs=1)\n",
    "\n",
    "outlierArray = lof.fit_predict(FinalData)\n",
    "\n",
    "outlierArray"
   ]
  },
  {
   "cell_type": "markdown",
   "metadata": {},
   "source": [
    "#### Here, we got an array, where row corresponding to array element 1 in our dataset is an inlier and row corresponding to array element to -1 in our dataset is an oulier"
   ]
  },
  {
   "cell_type": "code",
   "execution_count": 44,
   "metadata": {},
   "outputs": [
    {
     "data": {
      "text/plain": [
       "50000"
      ]
     },
     "execution_count": 44,
     "metadata": {},
     "output_type": "execute_result"
    }
   ],
   "source": [
    "len(outlierArray)"
   ]
  },
  {
   "cell_type": "markdown",
   "metadata": {},
   "source": [
    "### Calculating total number of outlier and inliers"
   ]
  },
  {
   "cell_type": "code",
   "execution_count": 45,
   "metadata": {},
   "outputs": [
    {
     "name": "stdout",
     "output_type": "stream",
     "text": [
      "Total number of outliers = 25000\n",
      "Total number of inliers = 25000\n"
     ]
    }
   ],
   "source": [
    "countOutliers = 0\n",
    "countInliers = 0\n",
    "for i in range(50000):\n",
    "    if outlierArray[i] == -1:\n",
    "        countOutliers += 1\n",
    "    else:\n",
    "        countInliers += 1\n",
    "print(\"Total number of outliers = \"+str(countOutliers))\n",
    "print(\"Total number of inliers = \"+str(countInliers))"
   ]
  },
  {
   "cell_type": "code",
   "execution_count": 46,
   "metadata": {},
   "outputs": [],
   "source": [
    "FinalData2 = FinalData.copy()"
   ]
  },
  {
   "cell_type": "code",
   "execution_count": 47,
   "metadata": {},
   "outputs": [
    {
     "data": {
      "text/plain": [
       "(50000, 31)"
      ]
     },
     "execution_count": 47,
     "metadata": {},
     "output_type": "execute_result"
    }
   ],
   "source": [
    "FinalData2.shape"
   ]
  },
  {
   "cell_type": "markdown",
   "metadata": {},
   "source": [
    "### Removing Outliers"
   ]
  },
  {
   "cell_type": "code",
   "execution_count": 48,
   "metadata": {},
   "outputs": [
    {
     "data": {
      "text/html": [
       "<div>\n",
       "<style scoped>\n",
       "    .dataframe tbody tr th:only-of-type {\n",
       "        vertical-align: middle;\n",
       "    }\n",
       "\n",
       "    .dataframe tbody tr th {\n",
       "        vertical-align: top;\n",
       "    }\n",
       "\n",
       "    .dataframe thead th {\n",
       "        text-align: right;\n",
       "    }\n",
       "</style>\n",
       "<table border=\"1\" class=\"dataframe\">\n",
       "  <thead>\n",
       "    <tr style=\"text-align: right;\">\n",
       "      <th></th>\n",
       "      <th>Time</th>\n",
       "      <th>V1</th>\n",
       "      <th>V2</th>\n",
       "      <th>V3</th>\n",
       "      <th>V4</th>\n",
       "      <th>V5</th>\n",
       "      <th>V6</th>\n",
       "      <th>V7</th>\n",
       "      <th>V8</th>\n",
       "      <th>V9</th>\n",
       "      <th>...</th>\n",
       "      <th>V21</th>\n",
       "      <th>V22</th>\n",
       "      <th>V23</th>\n",
       "      <th>V24</th>\n",
       "      <th>V25</th>\n",
       "      <th>V26</th>\n",
       "      <th>V27</th>\n",
       "      <th>V28</th>\n",
       "      <th>Amount</th>\n",
       "      <th>Class</th>\n",
       "    </tr>\n",
       "  </thead>\n",
       "  <tbody>\n",
       "    <tr>\n",
       "      <td>0</td>\n",
       "      <td>80990.0</td>\n",
       "      <td>-2.444260</td>\n",
       "      <td>2.585654</td>\n",
       "      <td>0.268899</td>\n",
       "      <td>0.988650</td>\n",
       "      <td>-0.602195</td>\n",
       "      <td>-0.565556</td>\n",
       "      <td>0.112191</td>\n",
       "      <td>0.332103</td>\n",
       "      <td>0.591638</td>\n",
       "      <td>...</td>\n",
       "      <td>-0.160517</td>\n",
       "      <td>-0.429796</td>\n",
       "      <td>-0.008273</td>\n",
       "      <td>0.264212</td>\n",
       "      <td>-0.185336</td>\n",
       "      <td>-0.662864</td>\n",
       "      <td>-1.583215</td>\n",
       "      <td>-0.548640</td>\n",
       "      <td>9.55</td>\n",
       "      <td>0</td>\n",
       "    </tr>\n",
       "    <tr>\n",
       "      <td>1</td>\n",
       "      <td>49162.0</td>\n",
       "      <td>-0.600425</td>\n",
       "      <td>0.507376</td>\n",
       "      <td>1.315834</td>\n",
       "      <td>0.477573</td>\n",
       "      <td>-0.978872</td>\n",
       "      <td>0.044558</td>\n",
       "      <td>0.110615</td>\n",
       "      <td>0.559529</td>\n",
       "      <td>-0.057982</td>\n",
       "      <td>...</td>\n",
       "      <td>0.126634</td>\n",
       "      <td>0.402120</td>\n",
       "      <td>0.173389</td>\n",
       "      <td>0.600582</td>\n",
       "      <td>-0.232857</td>\n",
       "      <td>0.280839</td>\n",
       "      <td>-0.096289</td>\n",
       "      <td>-0.026369</td>\n",
       "      <td>93.43</td>\n",
       "      <td>0</td>\n",
       "    </tr>\n",
       "    <tr>\n",
       "      <td>2</td>\n",
       "      <td>120496.0</td>\n",
       "      <td>1.937401</td>\n",
       "      <td>-0.628340</td>\n",
       "      <td>-0.769127</td>\n",
       "      <td>0.289363</td>\n",
       "      <td>-0.285919</td>\n",
       "      <td>0.237501</td>\n",
       "      <td>-0.628537</td>\n",
       "      <td>0.087615</td>\n",
       "      <td>1.560418</td>\n",
       "      <td>...</td>\n",
       "      <td>0.165889</td>\n",
       "      <td>0.564984</td>\n",
       "      <td>0.021425</td>\n",
       "      <td>0.048119</td>\n",
       "      <td>-0.010319</td>\n",
       "      <td>-0.207181</td>\n",
       "      <td>0.023493</td>\n",
       "      <td>-0.028608</td>\n",
       "      <td>61.75</td>\n",
       "      <td>0</td>\n",
       "    </tr>\n",
       "    <tr>\n",
       "      <td>3</td>\n",
       "      <td>9051.0</td>\n",
       "      <td>-0.692043</td>\n",
       "      <td>0.628297</td>\n",
       "      <td>1.755697</td>\n",
       "      <td>1.426988</td>\n",
       "      <td>0.507462</td>\n",
       "      <td>0.875312</td>\n",
       "      <td>0.303436</td>\n",
       "      <td>0.335085</td>\n",
       "      <td>0.681058</td>\n",
       "      <td>...</td>\n",
       "      <td>-0.055277</td>\n",
       "      <td>0.154263</td>\n",
       "      <td>-0.068650</td>\n",
       "      <td>-0.364108</td>\n",
       "      <td>-0.015503</td>\n",
       "      <td>-0.215139</td>\n",
       "      <td>0.109646</td>\n",
       "      <td>0.095162</td>\n",
       "      <td>46.92</td>\n",
       "      <td>0</td>\n",
       "    </tr>\n",
       "    <tr>\n",
       "      <td>4</td>\n",
       "      <td>31838.0</td>\n",
       "      <td>-3.269965</td>\n",
       "      <td>-3.058706</td>\n",
       "      <td>3.690959</td>\n",
       "      <td>4.087592</td>\n",
       "      <td>2.304401</td>\n",
       "      <td>1.248519</td>\n",
       "      <td>-3.111997</td>\n",
       "      <td>1.455856</td>\n",
       "      <td>0.590570</td>\n",
       "      <td>...</td>\n",
       "      <td>0.525970</td>\n",
       "      <td>1.174842</td>\n",
       "      <td>0.599197</td>\n",
       "      <td>-0.595380</td>\n",
       "      <td>0.035730</td>\n",
       "      <td>0.660886</td>\n",
       "      <td>0.352391</td>\n",
       "      <td>0.223467</td>\n",
       "      <td>76.44</td>\n",
       "      <td>0</td>\n",
       "    </tr>\n",
       "  </tbody>\n",
       "</table>\n",
       "<p>5 rows × 31 columns</p>\n",
       "</div>"
      ],
      "text/plain": [
       "       Time        V1        V2        V3        V4        V5        V6  \\\n",
       "0   80990.0 -2.444260  2.585654  0.268899  0.988650 -0.602195 -0.565556   \n",
       "1   49162.0 -0.600425  0.507376  1.315834  0.477573 -0.978872  0.044558   \n",
       "2  120496.0  1.937401 -0.628340 -0.769127  0.289363 -0.285919  0.237501   \n",
       "3    9051.0 -0.692043  0.628297  1.755697  1.426988  0.507462  0.875312   \n",
       "4   31838.0 -3.269965 -3.058706  3.690959  4.087592  2.304401  1.248519   \n",
       "\n",
       "         V7        V8        V9  ...       V21       V22       V23       V24  \\\n",
       "0  0.112191  0.332103  0.591638  ... -0.160517 -0.429796 -0.008273  0.264212   \n",
       "1  0.110615  0.559529 -0.057982  ...  0.126634  0.402120  0.173389  0.600582   \n",
       "2 -0.628537  0.087615  1.560418  ...  0.165889  0.564984  0.021425  0.048119   \n",
       "3  0.303436  0.335085  0.681058  ... -0.055277  0.154263 -0.068650 -0.364108   \n",
       "4 -3.111997  1.455856  0.590570  ...  0.525970  1.174842  0.599197 -0.595380   \n",
       "\n",
       "        V25       V26       V27       V28  Amount  Class  \n",
       "0 -0.185336 -0.662864 -1.583215 -0.548640    9.55      0  \n",
       "1 -0.232857  0.280839 -0.096289 -0.026369   93.43      0  \n",
       "2 -0.010319 -0.207181  0.023493 -0.028608   61.75      0  \n",
       "3 -0.015503 -0.215139  0.109646  0.095162   46.92      0  \n",
       "4  0.035730  0.660886  0.352391  0.223467   76.44      0  \n",
       "\n",
       "[5 rows x 31 columns]"
      ]
     },
     "execution_count": 48,
     "metadata": {},
     "output_type": "execute_result"
    }
   ],
   "source": [
    "for i in range(50000):\n",
    "    if outlierArray[i] == -2:\n",
    "        FinalData.drop(i, inplace = True)\n",
    "FinalData.head()"
   ]
  },
  {
   "cell_type": "code",
   "execution_count": 49,
   "metadata": {},
   "outputs": [
    {
     "data": {
      "text/plain": [
       "(50000, 31)"
      ]
     },
     "execution_count": 49,
     "metadata": {},
     "output_type": "execute_result"
    }
   ],
   "source": [
    "FinalData2.shape"
   ]
  },
  {
   "cell_type": "code",
   "execution_count": 50,
   "metadata": {},
   "outputs": [
    {
     "data": {
      "text/plain": [
       "(50000, 31)"
      ]
     },
     "execution_count": 50,
     "metadata": {},
     "output_type": "execute_result"
    }
   ],
   "source": [
    "FinalData.shape"
   ]
  },
  {
   "cell_type": "code",
   "execution_count": 51,
   "metadata": {},
   "outputs": [
    {
     "data": {
      "image/png": "[encoded data removed]",
      "text/plain": [
       "<Figure size 1152x432 with 2 Axes>"
      ]
     },
     "metadata": {
      "needs_background": "light"
     },
     "output_type": "display_data"
    }
   ],
   "source": [
    "fig = plt.figure(figsize = (16,6))\n",
    "\n",
    "plt.subplot(1, 2, 1)\n",
    "plt.title(\"Before removing outliers for column V1\")\n",
    "ax = sns.boxplot(x=\"Class\", y = \"V1\", data= FinalData2, hue = \"Class\")\n",
    "\n",
    "plt.subplot(1, 2, 2)\n",
    "plt.title(\"After removing outliers for column V1\")\n",
    "ax = sns.boxplot(x=\"Class\", y = \"V1\", data= FinalData, hue = \"Class\")"
   ]
  },
  {
   "cell_type": "code",
   "execution_count": 52,
   "metadata": {},
   "outputs": [
    {
     "data": {
      "image/png": "[encoded data removed]",
      "text/plain": [
       "<Figure size 1152x432 with 2 Axes>"
      ]
     },
     "metadata": {
      "needs_background": "light"
     },
     "output_type": "display_data"
    }
   ],
   "source": [
    "fig = plt.figure(figsize = (16,6))\n",
    "\n",
    "plt.subplot(1, 2, 1)\n",
    "plt.title(\"Before removing outliers for column V2\")\n",
    "ax = sns.boxplot(x=\"Class\", y = \"V2\", data= FinalData2, hue = \"Class\")\n",
    "\n",
    "plt.subplot(1, 2, 2)\n",
    "plt.title(\"After removing outliers for column V2\")\n",
    "ax = sns.boxplot(x=\"Class\", y = \"V2\", data= FinalData, hue = \"Class\")"
   ]
  },
  {
   "cell_type": "code",
   "execution_count": 53,
   "metadata": {},
   "outputs": [
    {
     "data": {
      "image/png": "[encoded data removed]",
      "text/plain": [
       "<Figure size 1152x432 with 2 Axes>"
      ]
     },
     "metadata": {
      "needs_background": "light"
     },
     "output_type": "display_data"
    }
   ],
   "source": [
    "fig = plt.figure(figsize = (16,6))\n",
    "\n",
    "plt.subplot(1, 2, 1)\n",
    "plt.title(\"Before removing outliers for column V3\")\n",
    "ax = sns.boxplot(x=\"Class\", y = \"V3\", data= FinalData2, hue = \"Class\")\n",
    "\n",
    "plt.subplot(1, 2, 2)\n",
    "plt.title(\"After removing outliers for column V3\")\n",
    "ax = sns.boxplot(x=\"Class\", y = \"V3\", data= FinalData, hue = \"Class\")"
   ]
  },
  {
   "cell_type": "code",
   "execution_count": 54,
   "metadata": {},
   "outputs": [
    {
     "data": {
      "image/png": "[encoded data removed]",
      "text/plain": [
       "<Figure size 1152x432 with 2 Axes>"
      ]
     },
     "metadata": {
      "needs_background": "light"
     },
     "output_type": "display_data"
    }
   ],
   "source": [
    "fig = plt.figure(figsize = (16,6))\n",
    "\n",
    "plt.subplot(1, 2, 1)\n",
    "plt.title(\"Before removing outliers for column V4\")\n",
    "ax = sns.boxplot(x=\"Class\", y = \"V4\", data= FinalData2, hue = \"Class\")\n",
    "\n",
    "plt.subplot(1, 2, 2)\n",
    "plt.title(\"After removing outliers for column V4\")\n",
    "ax = sns.boxplot(x=\"Class\", y = \"V4\", data= FinalData, hue = \"Class\")"
   ]
  },
  {
   "cell_type": "code",
   "execution_count": 55,
   "metadata": {},
   "outputs": [
    {
     "data": {
      "image/png": "[encoded data removed]",
      "text/plain": [
       "<Figure size 1152x432 with 2 Axes>"
      ]
     },
     "metadata": {
      "needs_background": "light"
     },
     "output_type": "display_data"
    }
   ],
   "source": [
    "fig = plt.figure(figsize = (16,6))\n",
    "\n",
    "plt.subplot(1, 2, 1)\n",
    "plt.title(\"Before removing outliers for column V5\")\n",
    "ax = sns.boxplot(x=\"Class\", y = \"V5\", data= FinalData2, hue = \"Class\")\n",
    "\n",
    "plt.subplot(1, 2, 2)\n",
    "plt.title(\"After removing outliers for column V5\")\n",
    "ax = sns.boxplot(x=\"Class\", y = \"V5\", data= FinalData, hue = \"Class\")"
   ]
  },
  {
   "cell_type": "markdown",
   "metadata": {},
   "source": [
    " It can easily be observed in all of the above boxplots corresponding to columns V1, V2, V3, V4, V5, that most of the outliers for points belongs to class 1 has been removed. Furthermore, many of the outliers for points belong to class 0 has also been removed. For example for class 0 in plot 1 for column V1 all of the outliers less than -17 have been removed. Similarly, for class 0 in plot 3 for column V3 all the outliers less than -15 have been removed. Similarly, for class 0 in plot 5 for column V5 all of the outliers greater than 8.5 have been removed.\n",
    "\n",
    " In conclusion, for k = 5 more outliers have been removed as compared to k = 2 or 3. Therefore, k = 5 is the best value for number of neighbors."
   ]
  },
  {
   "cell_type": "markdown",
   "metadata": {},
   "source": [
    "# Linear Algebra (Credit card fraud detection)"
   ]
  },
  {
   "cell_type": "code",
   "execution_count": 56,
   "metadata": {},
   "outputs": [
    {
     "data": {
      "text/html": [
       "<div>\n",
       "<style scoped>\n",
       "    .dataframe tbody tr th:only-of-type {\n",
       "        vertical-align: middle;\n",
       "    }\n",
       "\n",
       "    .dataframe tbody tr th {\n",
       "        vertical-align: top;\n",
       "    }\n",
       "\n",
       "    .dataframe thead th {\n",
       "        text-align: right;\n",
       "    }\n",
       "</style>\n",
       "<table border=\"1\" class=\"dataframe\">\n",
       "  <thead>\n",
       "    <tr style=\"text-align: right;\">\n",
       "      <th></th>\n",
       "      <th>Time</th>\n",
       "      <th>V1</th>\n",
       "      <th>V2</th>\n",
       "      <th>V3</th>\n",
       "      <th>V4</th>\n",
       "      <th>V5</th>\n",
       "      <th>V6</th>\n",
       "      <th>V7</th>\n",
       "      <th>V8</th>\n",
       "      <th>V9</th>\n",
       "      <th>...</th>\n",
       "      <th>V21</th>\n",
       "      <th>V22</th>\n",
       "      <th>V23</th>\n",
       "      <th>V24</th>\n",
       "      <th>V25</th>\n",
       "      <th>V26</th>\n",
       "      <th>V27</th>\n",
       "      <th>V28</th>\n",
       "      <th>Amount</th>\n",
       "      <th>Class</th>\n",
       "    </tr>\n",
       "  </thead>\n",
       "  <tbody>\n",
       "    <tr>\n",
       "      <td>0</td>\n",
       "      <td>0.0</td>\n",
       "      <td>-1.359807</td>\n",
       "      <td>-0.072781</td>\n",
       "      <td>2.536347</td>\n",
       "      <td>1.378155</td>\n",
       "      <td>-0.338321</td>\n",
       "      <td>0.462388</td>\n",
       "      <td>0.239599</td>\n",
       "      <td>0.098698</td>\n",
       "      <td>0.363787</td>\n",
       "      <td>...</td>\n",
       "      <td>-0.018307</td>\n",
       "      <td>0.277838</td>\n",
       "      <td>-0.110474</td>\n",
       "      <td>0.066928</td>\n",
       "      <td>0.128539</td>\n",
       "      <td>-0.189115</td>\n",
       "      <td>0.133558</td>\n",
       "      <td>-0.021053</td>\n",
       "      <td>149.62</td>\n",
       "      <td>0</td>\n",
       "    </tr>\n",
       "    <tr>\n",
       "      <td>1</td>\n",
       "      <td>0.0</td>\n",
       "      <td>1.191857</td>\n",
       "      <td>0.266151</td>\n",
       "      <td>0.166480</td>\n",
       "      <td>0.448154</td>\n",
       "      <td>0.060018</td>\n",
       "      <td>-0.082361</td>\n",
       "      <td>-0.078803</td>\n",
       "      <td>0.085102</td>\n",
       "      <td>-0.255425</td>\n",
       "      <td>...</td>\n",
       "      <td>-0.225775</td>\n",
       "      <td>-0.638672</td>\n",
       "      <td>0.101288</td>\n",
       "      <td>-0.339846</td>\n",
       "      <td>0.167170</td>\n",
       "      <td>0.125895</td>\n",
       "      <td>-0.008983</td>\n",
       "      <td>0.014724</td>\n",
       "      <td>2.69</td>\n",
       "      <td>0</td>\n",
       "    </tr>\n",
       "    <tr>\n",
       "      <td>2</td>\n",
       "      <td>1.0</td>\n",
       "      <td>-1.358354</td>\n",
       "      <td>-1.340163</td>\n",
       "      <td>1.773209</td>\n",
       "      <td>0.379780</td>\n",
       "      <td>-0.503198</td>\n",
       "      <td>1.800499</td>\n",
       "      <td>0.791461</td>\n",
       "      <td>0.247676</td>\n",
       "      <td>-1.514654</td>\n",
       "      <td>...</td>\n",
       "      <td>0.247998</td>\n",
       "      <td>0.771679</td>\n",
       "      <td>0.909412</td>\n",
       "      <td>-0.689281</td>\n",
       "      <td>-0.327642</td>\n",
       "      <td>-0.139097</td>\n",
       "      <td>-0.055353</td>\n",
       "      <td>-0.059752</td>\n",
       "      <td>378.66</td>\n",
       "      <td>0</td>\n",
       "    </tr>\n",
       "    <tr>\n",
       "      <td>3</td>\n",
       "      <td>1.0</td>\n",
       "      <td>-0.966272</td>\n",
       "      <td>-0.185226</td>\n",
       "      <td>1.792993</td>\n",
       "      <td>-0.863291</td>\n",
       "      <td>-0.010309</td>\n",
       "      <td>1.247203</td>\n",
       "      <td>0.237609</td>\n",
       "      <td>0.377436</td>\n",
       "      <td>-1.387024</td>\n",
       "      <td>...</td>\n",
       "      <td>-0.108300</td>\n",
       "      <td>0.005274</td>\n",
       "      <td>-0.190321</td>\n",
       "      <td>-1.175575</td>\n",
       "      <td>0.647376</td>\n",
       "      <td>-0.221929</td>\n",
       "      <td>0.062723</td>\n",
       "      <td>0.061458</td>\n",
       "      <td>123.50</td>\n",
       "      <td>0</td>\n",
       "    </tr>\n",
       "    <tr>\n",
       "      <td>4</td>\n",
       "      <td>2.0</td>\n",
       "      <td>-1.158233</td>\n",
       "      <td>0.877737</td>\n",
       "      <td>1.548718</td>\n",
       "      <td>0.403034</td>\n",
       "      <td>-0.407193</td>\n",
       "      <td>0.095921</td>\n",
       "      <td>0.592941</td>\n",
       "      <td>-0.270533</td>\n",
       "      <td>0.817739</td>\n",
       "      <td>...</td>\n",
       "      <td>-0.009431</td>\n",
       "      <td>0.798278</td>\n",
       "      <td>-0.137458</td>\n",
       "      <td>0.141267</td>\n",
       "      <td>-0.206010</td>\n",
       "      <td>0.502292</td>\n",
       "      <td>0.219422</td>\n",
       "      <td>0.215153</td>\n",
       "      <td>69.99</td>\n",
       "      <td>0</td>\n",
       "    </tr>\n",
       "  </tbody>\n",
       "</table>\n",
       "<p>5 rows × 31 columns</p>\n",
       "</div>"
      ],
      "text/plain": [
       "   Time        V1        V2        V3        V4        V5        V6        V7  \\\n",
       "0   0.0 -1.359807 -0.072781  2.536347  1.378155 -0.338321  0.462388  0.239599   \n",
       "1   0.0  1.191857  0.266151  0.166480  0.448154  0.060018 -0.082361 -0.078803   \n",
       "2   1.0 -1.358354 -1.340163  1.773209  0.379780 -0.503198  1.800499  0.791461   \n",
       "3   1.0 -0.966272 -0.185226  1.792993 -0.863291 -0.010309  1.247203  0.237609   \n",
       "4   2.0 -1.158233  0.877737  1.548718  0.403034 -0.407193  0.095921  0.592941   \n",
       "\n",
       "         V8        V9  ...       V21       V22       V23       V24       V25  \\\n",
       "0  0.098698  0.363787  ... -0.018307  0.277838 -0.110474  0.066928  0.128539   \n",
       "1  0.085102 -0.255425  ... -0.225775 -0.638672  0.101288 -0.339846  0.167170   \n",
       "2  0.247676 -1.514654  ...  0.247998  0.771679  0.909412 -0.689281 -0.327642   \n",
       "3  0.377436 -1.387024  ... -0.108300  0.005274 -0.190321 -1.175575  0.647376   \n",
       "4 -0.270533  0.817739  ... -0.009431  0.798278 -0.137458  0.141267 -0.206010   \n",
       "\n",
       "        V26       V27       V28  Amount  Class  \n",
       "0 -0.189115  0.133558 -0.021053  149.62      0  \n",
       "1  0.125895 -0.008983  0.014724    2.69      0  \n",
       "2 -0.139097 -0.055353 -0.059752  378.66      0  \n",
       "3 -0.221929  0.062723  0.061458  123.50      0  \n",
       "4  0.502292  0.219422  0.215153   69.99      0  \n",
       "\n",
       "[5 rows x 31 columns]"
      ]
     },
     "execution_count": 56,
     "metadata": {},
     "output_type": "execute_result"
    }
   ],
   "source": [
    "Creditcard = pd.read_csv(\"CreditCard.csv\")\n",
    "Creditcard.head()"
   ]
  },
  {
   "cell_type": "code",
   "execution_count": 57,
   "metadata": {},
   "outputs": [
    {
     "data": {
      "text/plain": [
       "(284807, 31)"
      ]
     },
     "execution_count": 57,
     "metadata": {},
     "output_type": "execute_result"
    }
   ],
   "source": [
    "Creditcard.shape"
   ]
  },
  {
   "cell_type": "code",
   "execution_count": 58,
   "metadata": {},
   "outputs": [
    {
     "data": {
      "text/plain": [
       "Index(['Time', 'V1', 'V2', 'V3', 'V4', 'V5', 'V6', 'V7', 'V8', 'V9', 'V10',\n",
       "       'V11', 'V12', 'V13', 'V14', 'V15', 'V16', 'V17', 'V18', 'V19', 'V20',\n",
       "       'V21', 'V22', 'V23', 'V24', 'V25', 'V26', 'V27', 'V28', 'Amount',\n",
       "       'Class'],\n",
       "      dtype='object')"
      ]
     },
     "execution_count": 58,
     "metadata": {},
     "output_type": "execute_result"
    }
   ],
   "source": [
    "Creditcard.columns"
   ]
  },
  {
   "cell_type": "code",
   "execution_count": 59,
   "metadata": {},
   "outputs": [
    {
     "data": {
      "text/plain": [
       "0    284315\n",
       "1       492\n",
       "Name: Class, dtype: int64"
      ]
     },
     "execution_count": 59,
     "metadata": {},
     "output_type": "execute_result"
    }
   ],
   "source": [
    "Creditcard[\"Class\"].value_counts()"
   ]
  },
  {
   "cell_type": "markdown",
   "metadata": {},
   "source": [
    "# 2-D Scatter Plot"
   ]
  },
  {
   "cell_type": "code",
   "execution_count": 60,
   "metadata": {},
   "outputs": [
    {
     "name": "stderr",
     "output_type": "stream",
     "text": [
      "C:\\Users\\DELL\\Anaconda3\\lib\\site-packages\\seaborn\\axisgrid.py:230: UserWarning: The `size` paramter has been renamed to `height`; please update your code.\n",
      "  warnings.warn(msg, UserWarning)\n"
     ]
    },
    {
     "data": {
      "image/png": "[encoded data removed]",
      "text/plain": [
       "<Figure size 473.625x432 with 1 Axes>"
      ]
     },
     "metadata": {},
     "output_type": "display_data"
    }
   ],
   "source": [
    "sns.set_style(\"whitegrid\")\n",
    "sns.FacetGrid(Creditcard, hue=\"Class\", size = 6).map(plt.scatter, \"Time\", \"Amount\").add_legend()\n",
    "plt.show()"
   ]
  },
  {
   "cell_type": "code",
   "execution_count": 61,
   "metadata": {},
   "outputs": [
    {
     "data": {
      "image/png": "[encoded data removed]",
      "text/plain": [
       "<Figure size 473.625x432 with 1 Axes>"
      ]
     },
     "metadata": {},
     "output_type": "display_data"
    }
   ],
   "source": [
    "sns.set_style(\"whitegrid\")\n",
    "sns.FacetGrid(Creditcard, hue=\"Class\", size = 6).map(plt.scatter, \"Amount\", \"Time\").add_legend()\n",
    "plt.show()"
   ]
  },
  {
   "cell_type": "markdown",
   "metadata": {},
   "source": [
    "# 3D Scatter plot"
   ]
  },
  {
   "cell_type": "code",
   "execution_count": 62,
   "metadata": {},
   "outputs": [],
   "source": [
    "FilteredData = Creditcard[['Time','Amount', 'Class']]"
   ]
  },
  {
   "cell_type": "code",
   "execution_count": 63,
   "metadata": {},
   "outputs": [
    {
     "data": {
      "text/html": [
       "<div>\n",
       "<style scoped>\n",
       "    .dataframe tbody tr th:only-of-type {\n",
       "        vertical-align: middle;\n",
       "    }\n",
       "\n",
       "    .dataframe tbody tr th {\n",
       "        vertical-align: top;\n",
       "    }\n",
       "\n",
       "    .dataframe thead th {\n",
       "        text-align: right;\n",
       "    }\n",
       "</style>\n",
       "<table border=\"1\" class=\"dataframe\">\n",
       "  <thead>\n",
       "    <tr style=\"text-align: right;\">\n",
       "      <th></th>\n",
       "      <th>Time</th>\n",
       "      <th>Amount</th>\n",
       "      <th>Class</th>\n",
       "    </tr>\n",
       "  </thead>\n",
       "  <tbody>\n",
       "    <tr>\n",
       "      <td>0</td>\n",
       "      <td>0.0</td>\n",
       "      <td>149.62</td>\n",
       "      <td>0</td>\n",
       "    </tr>\n",
       "    <tr>\n",
       "      <td>1</td>\n",
       "      <td>0.0</td>\n",
       "      <td>2.69</td>\n",
       "      <td>0</td>\n",
       "    </tr>\n",
       "    <tr>\n",
       "      <td>2</td>\n",
       "      <td>1.0</td>\n",
       "      <td>378.66</td>\n",
       "      <td>0</td>\n",
       "    </tr>\n",
       "    <tr>\n",
       "      <td>3</td>\n",
       "      <td>1.0</td>\n",
       "      <td>123.50</td>\n",
       "      <td>0</td>\n",
       "    </tr>\n",
       "    <tr>\n",
       "      <td>4</td>\n",
       "      <td>2.0</td>\n",
       "      <td>69.99</td>\n",
       "      <td>0</td>\n",
       "    </tr>\n",
       "    <tr>\n",
       "      <td>...</td>\n",
       "      <td>...</td>\n",
       "      <td>...</td>\n",
       "      <td>...</td>\n",
       "    </tr>\n",
       "    <tr>\n",
       "      <td>284802</td>\n",
       "      <td>172786.0</td>\n",
       "      <td>0.77</td>\n",
       "      <td>0</td>\n",
       "    </tr>\n",
       "    <tr>\n",
       "      <td>284803</td>\n",
       "      <td>172787.0</td>\n",
       "      <td>24.79</td>\n",
       "      <td>0</td>\n",
       "    </tr>\n",
       "    <tr>\n",
       "      <td>284804</td>\n",
       "      <td>172788.0</td>\n",
       "      <td>67.88</td>\n",
       "      <td>0</td>\n",
       "    </tr>\n",
       "    <tr>\n",
       "      <td>284805</td>\n",
       "      <td>172788.0</td>\n",
       "      <td>10.00</td>\n",
       "      <td>0</td>\n",
       "    </tr>\n",
       "    <tr>\n",
       "      <td>284806</td>\n",
       "      <td>172792.0</td>\n",
       "      <td>217.00</td>\n",
       "      <td>0</td>\n",
       "    </tr>\n",
       "  </tbody>\n",
       "</table>\n",
       "<p>284807 rows × 3 columns</p>\n",
       "</div>"
      ],
      "text/plain": [
       "            Time  Amount  Class\n",
       "0            0.0  149.62      0\n",
       "1            0.0    2.69      0\n",
       "2            1.0  378.66      0\n",
       "3            1.0  123.50      0\n",
       "4            2.0   69.99      0\n",
       "...          ...     ...    ...\n",
       "284802  172786.0    0.77      0\n",
       "284803  172787.0   24.79      0\n",
       "284804  172788.0   67.88      0\n",
       "284805  172788.0   10.00      0\n",
       "284806  172792.0  217.00      0\n",
       "\n",
       "[284807 rows x 3 columns]"
      ]
     },
     "execution_count": 63,
     "metadata": {},
     "output_type": "execute_result"
    }
   ],
   "source": [
    "FilteredData"
   ]
  },
  {
   "cell_type": "code",
   "execution_count": 64,
   "metadata": {},
   "outputs": [
    {
     "name": "stdout",
     "output_type": "stream",
     "text": [
      "(284807, 3)\n"
     ]
    }
   ],
   "source": [
    "print(FilteredData.shape)"
   ]
  },
  {
   "cell_type": "code",
   "execution_count": 65,
   "metadata": {},
   "outputs": [
    {
     "data": {
      "text/plain": [
       "0    284315\n",
       "1       492\n",
       "Name: Class, dtype: int64"
      ]
     },
     "execution_count": 65,
     "metadata": {},
     "output_type": "execute_result"
    }
   ],
   "source": [
    "\n",
    "FilteredData[\"Class\"].value_counts()"
   ]
  },
  {
   "cell_type": "code",
   "execution_count": 66,
   "metadata": {},
   "outputs": [
    {
     "name": "stderr",
     "output_type": "stream",
     "text": [
      "C:\\Users\\DELL\\Anaconda3\\lib\\site-packages\\seaborn\\axisgrid.py:2065: UserWarning: The `size` parameter has been renamed to `height`; pleaes update your code.\n",
      "  warnings.warn(msg, UserWarning)\n",
      "C:\\Users\\DELL\\Anaconda3\\lib\\site-packages\\statsmodels\\nonparametric\\kde.py:487: RuntimeWarning: invalid value encountered in true_divide\n",
      "  binned = fast_linbin(X, a, b, gridsize) / (delta * nobs)\n",
      "C:\\Users\\DELL\\Anaconda3\\lib\\site-packages\\statsmodels\\nonparametric\\kdetools.py:34: RuntimeWarning: invalid value encountered in double_scalars\n",
      "  FAC1 = 2*(np.pi*bw/RANGE)**2\n"
     ]
    },
    {
     "data": {
      "image/png": "[encoded data removed]",
      "text/plain": [
       "<Figure size 1121.62x1080 with 12 Axes>"
      ]
     },
     "metadata": {},
     "output_type": "display_data"
    }
   ],
   "source": [
    "plt.close();\n",
    "sns.set_style(\"whitegrid\");\n",
    "sns.pairplot(FilteredData, hue=\"Class\", size=5);\n",
    "plt.show()"
   ]
  },
  {
   "cell_type": "code",
   "execution_count": 67,
   "metadata": {},
   "outputs": [
    {
     "name": "stdout",
     "output_type": "stream",
     "text": [
      "284357\n",
      "449\n"
     ]
    }
   ],
   "source": [
    "countLess = 0\n",
    "countMore= 0\n",
    "for i in range(284806):\n",
    "    if(FilteredData.iloc[i][\"Amount\"] < 2500):\n",
    "        countLess = countLess + 1\n",
    "    else:\n",
    "        countMore = countMore + 1\n",
    "print(countLess)\n",
    "print(countMore)"
   ]
  },
  {
   "cell_type": "code",
   "execution_count": 68,
   "metadata": {},
   "outputs": [
    {
     "data": {
      "text/plain": [
       "99.84199826549207"
      ]
     },
     "execution_count": 68,
     "metadata": {},
     "output_type": "execute_result"
    }
   ],
   "source": [
    "percentage = (countLess/284807)*100\n",
    "percentage"
   ]
  },
  {
   "cell_type": "markdown",
   "metadata": {},
   "source": [
    "Observations:\n",
    "\n",
    "Now it has been calculated that there are 284357 transactions which has a transaction amount less than 2500. Means 99.84% of transactions have transaction amount less than 2500"
   ]
  },
  {
   "cell_type": "code",
   "execution_count": 69,
   "metadata": {},
   "outputs": [
    {
     "name": "stdout",
     "output_type": "stream",
     "text": [
      "283865\n",
      "492\n"
     ]
    }
   ],
   "source": [
    "class0 = 0\n",
    "class1 = 0\n",
    "for i in range(284806):\n",
    "    if(FilteredData.iloc[i][\"Amount\"] < 2500):\n",
    "        if(FilteredData.iloc[i][\"Class\"] == 0):\n",
    "            class0 = class0 + 1\n",
    "        else:\n",
    "            class1 = class1 + 1\n",
    "        \n",
    "print(class0)\n",
    "print(class1)"
   ]
  },
  {
   "cell_type": "code",
   "execution_count": 70,
   "metadata": {},
   "outputs": [
    {
     "data": {
      "text/plain": [
       "0    284315\n",
       "1       492\n",
       "Name: Class, dtype: int64"
      ]
     },
     "execution_count": 70,
     "metadata": {},
     "output_type": "execute_result"
    }
   ],
   "source": [
    "FilteredData[\"Class\"].value_counts()"
   ]
  },
  {
   "cell_type": "markdown",
   "metadata": {},
   "source": [
    "# Histogram, PDF and CDF"
   ]
  },
  {
   "cell_type": "code",
   "execution_count": 71,
   "metadata": {},
   "outputs": [
    {
     "data": {
      "image/png": "[encoded data removed]",
      "text/plain": [
       "<Figure size 432x288 with 1 Axes>"
      ]
     },
     "metadata": {},
     "output_type": "display_data"
    }
   ],
   "source": [
    "creditCard_genuine = FilteredData.loc[FilteredData[\"Class\"] == 0]\n",
    "creditCard_fraud = FilteredData.loc[FilteredData[\"Class\"] == 1]\n",
    "\n",
    "plt.plot(creditCard_genuine[\"Time\"], np.zeros_like(creditCard_genuine[\"Time\"]), \"o\")\n",
    "plt.plot(creditCard_fraud[\"Time\"], np.zeros_like(creditCard_fraud[\"Time\"]), \"o\")\n",
    "\n",
    "plt.show()"
   ]
  },
  {
   "cell_type": "markdown",
   "metadata": {},
   "source": [
    "Observations:\n",
    "\n",
    "Fraud and genuine transactions are spread evenly thought time and there is no clear distinction."
   ]
  },
  {
   "cell_type": "code",
   "execution_count": 72,
   "metadata": {},
   "outputs": [
    {
     "data": {
      "image/png": "[encoded data removed]",
      "text/plain": [
       "<Figure size 432x288 with 1 Axes>"
      ]
     },
     "metadata": {},
     "output_type": "display_data"
    }
   ],
   "source": [
    "plt.plot(creditCard_genuine[\"Amount\"], np.zeros_like(creditCard_genuine[\"Amount\"]), \"o\")\n",
    "plt.plot(creditCard_fraud[\"Amount\"], np.zeros_like(creditCard_fraud[\"Amount\"]), \"o\")\n",
    "\n",
    "plt.show()\n",
    "#X-axis: Amount"
   ]
  },
  {
   "cell_type": "markdown",
   "metadata": {},
   "source": [
    "Observations:\n",
    "\n",
    "It can clearly be observed from this 1D scatter plot that the fraud transactions are there only on the transaction amount less than 2500."
   ]
  },
  {
   "cell_type": "code",
   "execution_count": 73,
   "metadata": {},
   "outputs": [
    {
     "data": {
      "image/png": "[encoded data removed]",
      "text/plain": [
       "<Figure size 761.625x720 with 1 Axes>"
      ]
     },
     "metadata": {},
     "output_type": "display_data"
    }
   ],
   "source": [
    "sns.FacetGrid(FilteredData, hue=\"Class\", size=10).map(sns.distplot, \"Time\").add_legend()\n",
    "plt.show()"
   ]
  },
  {
   "cell_type": "code",
   "execution_count": 74,
   "metadata": {},
   "outputs": [
    {
     "data": {
      "image/png": "[encoded data removed]",
      "text/plain": [
       "<Figure size 761.625x720 with 1 Axes>"
      ]
     },
     "metadata": {},
     "output_type": "display_data"
    }
   ],
   "source": [
    "sns.FacetGrid(FilteredData, hue=\"Class\", size=10).map(sns.distplot, \"Amount\").add_legend()\n",
    "plt.show()"
   ]
  },
  {
   "cell_type": "markdown",
   "metadata": {},
   "source": [
    "Observations:\n",
    "\n",
    "Most of the transaction have amount less than 2500 approximately and all of the fraud transactions have transaction amount less than 2500. There is no fraud transaction of transaction amount greater than 2500.\n",
    "\n",
    "Hence, this is the best histogram we have"
   ]
  },
  {
   "cell_type": "code",
   "execution_count": 75,
   "metadata": {},
   "outputs": [
    {
     "name": "stdout",
     "output_type": "stream",
     "text": [
      "pdf =  [9.98553406e-01 1.26401388e-03 1.26401388e-04 3.51114966e-05\n",
      " 7.02229931e-06 3.51114966e-06 0.00000000e+00 7.02229931e-06\n",
      " 0.00000000e+00 3.51114966e-06]\n",
      "\n",
      "\n",
      "Counts = [3.88675874e-04 4.92003427e-07 4.92003427e-08 1.36667619e-08\n",
      " 2.73335237e-09 1.36667619e-09 0.00000000e+00 2.73335237e-09\n",
      " 0.00000000e+00 1.36667619e-09]\n",
      "\n",
      "\n",
      "Bin edges =  [    0.     2569.116  5138.232  7707.348 10276.464 12845.58  15414.696\n",
      " 17983.812 20552.928 23122.044 25691.16 ]\n"
     ]
    },
    {
     "data": {
      "image/png": "[encoded data removed]",
      "text/plain": [
       "<Figure size 432x288 with 1 Axes>"
      ]
     },
     "metadata": {},
     "output_type": "display_data"
    }
   ],
   "source": [
    "counts, bin_edges = np.histogram(FilteredData['Amount'], bins=10, density = True)\n",
    "pdf = counts/(sum(counts))\n",
    "\n",
    "print(\"pdf = \",pdf)\n",
    "print(\"\\n\")\n",
    "print(\"Counts =\",counts)\n",
    "print(\"\\n\")\n",
    "print(\"Bin edges = \",bin_edges)\n",
    "\n",
    "cdf = np.cumsum(pdf)\n",
    "plt.plot(bin_edges[1:],pdf)\n",
    "plt.plot(bin_edges[1:], cdf)\n",
    "\n",
    "\n",
    "\n",
    "plt.show();"
   ]
  },
  {
   "cell_type": "markdown",
   "metadata": {},
   "source": [
    "# Mean, Variance and Std-dev"
   ]
  },
  {
   "cell_type": "code",
   "execution_count": 76,
   "metadata": {},
   "outputs": [
    {
     "name": "stdout",
     "output_type": "stream",
     "text": [
      "Means:\n",
      "Mean of transaction amount of genuine transactions:  88.29102242225574\n",
      "Mean of transaction amount of fraud transactions:  122.21132113821133\n"
     ]
    }
   ],
   "source": [
    "print(\"Means:\")\n",
    "print(\"Mean of transaction amount of genuine transactions: \",np.mean(creditCard_genuine[\"Amount\"]))\n",
    "print(\"Mean of transaction amount of fraud transactions: \",np.mean(creditCard_fraud[\"Amount\"]))"
   ]
  },
  {
   "cell_type": "code",
   "execution_count": 77,
   "metadata": {},
   "outputs": [
    {
     "name": "stdout",
     "output_type": "stream",
     "text": [
      "Standard Deviation:\n",
      "Std-Deviation of transaction amount of genuine transactions:  250.1046523874637\n",
      "Std-Deviation of transaction amount of fraud transactions:  256.42229861324483\n"
     ]
    }
   ],
   "source": [
    "print(\"Standard Deviation:\")\n",
    "print(\"Std-Deviation of transaction amount of genuine transactions: \", np.std(creditCard_genuine[\"Amount\"]))\n",
    "print(\"Std-Deviation of transaction amount of fraud transactions: \", np.std(creditCard_fraud[\"Amount\"]))"
   ]
  },
  {
   "cell_type": "code",
   "execution_count": 78,
   "metadata": {},
   "outputs": [
    {
     "name": "stdout",
     "output_type": "stream",
     "text": [
      "Median:\n",
      "Median of transaction amount of genuine transactions:  22.0\n",
      "Median of transaction amount of fraud transactions:  9.25\n"
     ]
    }
   ],
   "source": [
    "print(\"Median:\")\n",
    "print(\"Median of transaction amount of genuine transactions: \", np.median(creditCard_genuine[\"Amount\"]))\n",
    "print(\"Median of transaction amount of fraud transactions: \", np.median(creditCard_fraud[\"Amount\"]))"
   ]
  },
  {
   "cell_type": "code",
   "execution_count": 79,
   "metadata": {},
   "outputs": [
    {
     "name": "stdout",
     "output_type": "stream",
     "text": [
      "\n",
      "Quantiles:\n",
      "[ 0.    5.65 22.   77.05]\n",
      "[  0.     1.     9.25 105.89]\n"
     ]
    }
   ],
   "source": [
    "print(\"\\nQuantiles:\")\n",
    "print(np.percentile(creditCard_genuine[\"Amount\"],np.arange(0, 100, 25)))\n",
    "print(np.percentile(creditCard_fraud[\"Amount\"],np.arange(0, 100, 25)))"
   ]
  },
  {
   "cell_type": "markdown",
   "metadata": {},
   "source": [
    "# Box plot and Whiskers"
   ]
  },
  {
   "cell_type": "code",
   "execution_count": 80,
   "metadata": {},
   "outputs": [
    {
     "data": {
      "image/png": "[encoded data removed]",
      "text/plain": [
       "<Figure size 432x288 with 1 Axes>"
      ]
     },
     "metadata": {},
     "output_type": "display_data"
    }
   ],
   "source": [
    "sns.boxplot(x = \"Class\", y = \"Time\", data = Creditcard)\n",
    "plt.show()"
   ]
  },
  {
   "cell_type": "code",
   "execution_count": 81,
   "metadata": {},
   "outputs": [
    {
     "data": {
      "image/png": "[encoded data removed]",
      "text/plain": [
       "<Figure size 432x288 with 1 Axes>"
      ]
     },
     "metadata": {},
     "output_type": "display_data"
    }
   ],
   "source": [
    "sns.boxplot(x = \"Class\", y = \"Amount\", data = Creditcard)\n",
    "plt.ylim(0, 5000)\n",
    "plt.show()"
   ]
  },
  {
   "cell_type": "markdown",
   "metadata": {},
   "source": [
    "Observations:\n",
    "\n",
    "From above box plot we can easily infer that there are no fraud transactions occur above the transaction amount of 3000. All of the fraud transactions have transaction amount less than 3000. However, there are many transactions which have a transaction amount greater than 3000 and all of them are genuine."
   ]
  },
  {
   "cell_type": "code",
   "execution_count": 82,
   "metadata": {},
   "outputs": [],
   "source": [
    "from scipy import spatial"
   ]
  },
  {
   "cell_type": "code",
   "execution_count": 83,
   "metadata": {},
   "outputs": [],
   "source": [
    "sampleData = Creditcard.head(20000) "
   ]
  },
  {
   "cell_type": "code",
   "execution_count": 84,
   "metadata": {},
   "outputs": [],
   "source": [
    "samples = Creditcard.loc[30401:30500] "
   ]
  },
  {
   "cell_type": "code",
   "execution_count": 85,
   "metadata": {},
   "outputs": [
    {
     "data": {
      "application/javascript": [
       "IPython.OutputArea.prototype._should_scroll = function(lines) {\n",
       "    return false;\n",
       "}\n"
      ],
      "text/plain": [
       "<IPython.core.display.Javascript object>"
      ]
     },
     "metadata": {},
     "output_type": "display_data"
    }
   ],
   "source": [
    "%%javascript\n",
    "IPython.OutputArea.prototype._should_scroll = function(lines) {\n",
    "    return false;\n",
    "}"
   ]
  },
  {
   "cell_type": "code",
   "execution_count": 86,
   "metadata": {},
   "outputs": [],
   "source": [
    "frame = []"
   ]
  },
  {
   "cell_type": "code",
   "execution_count": null,
   "metadata": {},
   "outputs": [
    {
     "name": "stdout",
     "output_type": "stream",
     "text": [
      "Top 10 transactions having highest similarity with transaction ID = 30401 and class = 0.0:\n",
      "       Class  Similarity  Transaction ID\n",
      "16709    0.0         1.0           16709\n",
      "18754    0.0         1.0           18754\n",
      "15840    0.0         1.0           15840\n",
      "16254    0.0         1.0           16254\n",
      "18586    0.0         1.0           18586\n",
      "16628    0.0         1.0           16628\n",
      "18438    0.0         1.0           18438\n",
      "18046    0.0         1.0           18046\n",
      "15946    0.0         1.0           15946\n",
      "14804    0.0         1.0           14804\n",
      "\n",
      "\n",
      "Top 10 transactions having highest similarity with transaction ID = 30402 and class = 0.0:\n",
      "       Class  Similarity  Transaction ID\n",
      "19040    0.0         1.0           19040\n",
      "16720    0.0         1.0           16720\n",
      "18994    0.0         1.0           18994\n",
      "19142    0.0         1.0           19142\n",
      "15480    0.0         1.0           15480\n",
      "17628    0.0         1.0           17628\n",
      "17591    0.0         1.0           17591\n",
      "17876    0.0         1.0           17876\n",
      "17702    0.0         1.0           17702\n",
      "18873    0.0         1.0           18873\n",
      "\n",
      "\n",
      "Top 10 transactions having highest similarity with transaction ID = 30403 and class = 0.0:\n",
      "       Class  Similarity  Transaction ID\n",
      "19891    0.0         1.0           19891\n",
      "16169    0.0         1.0           16169\n",
      "14732    0.0         1.0           14732\n",
      "18378    0.0         1.0           18378\n",
      "18484    0.0         1.0           18484\n",
      "18640    0.0         1.0           18640\n",
      "18884    0.0         1.0           18884\n",
      "18195    0.0         1.0           18195\n",
      "17543    0.0         1.0           17543\n",
      "18584    0.0         1.0           18584\n",
      "\n",
      "\n",
      "Top 10 transactions having highest similarity with transaction ID = 30404 and class = 0.0:\n",
      "       Class  Similarity  Transaction ID\n",
      "16348    0.0         1.0           16348\n",
      "18390    0.0         1.0           18390\n",
      "16264    0.0         1.0           16264\n",
      "17166    0.0         1.0           17166\n",
      "15248    0.0         1.0           15248\n",
      "15263    0.0         1.0           15263\n",
      "14506    0.0         1.0           14506\n",
      "15636    0.0         1.0           15636\n",
      "19278    0.0         1.0           19278\n",
      "17522    0.0         1.0           17522\n",
      "\n",
      "\n",
      "Top 10 transactions having highest similarity with transaction ID = 30405 and class = 0.0:\n",
      "       Class  Similarity  Transaction ID\n",
      "17296    0.0         1.0           17296\n",
      "15162    0.0         1.0           15162\n",
      "14209    0.0         1.0           14209\n",
      "17175    0.0         1.0           17175\n",
      "18301    0.0         1.0           18301\n",
      "19185    0.0         1.0           19185\n",
      "19831    0.0         1.0           19831\n",
      "18762    0.0         1.0           18762\n",
      "18839    0.0         1.0           18839\n",
      "17704    0.0         1.0           17704\n",
      "\n",
      "\n",
      "Top 10 transactions having highest similarity with transaction ID = 30406 and class = 0.0:\n",
      "       Class  Similarity  Transaction ID\n",
      "14972    0.0         1.0           14972\n",
      "15826    0.0         1.0           15826\n",
      "19655    0.0         1.0           19655\n",
      "15083    0.0         1.0           15083\n",
      "18291    0.0         1.0           18291\n",
      "15654    0.0         1.0           15654\n",
      "19774    0.0         1.0           19774\n",
      "16421    0.0         1.0           16421\n",
      "17621    0.0         1.0           17621\n",
      "17450    0.0         1.0           17450\n",
      "\n",
      "\n",
      "Top 10 transactions having highest similarity with transaction ID = 30407 and class = 0.0:\n",
      "       Class  Similarity  Transaction ID\n",
      "18057    0.0         1.0           18057\n",
      "14583    0.0         1.0           14583\n",
      "19963    0.0         1.0           19963\n",
      "15085    0.0         1.0           15085\n",
      "14828    0.0         1.0           14828\n",
      "17876    0.0         1.0           17876\n",
      "14850    0.0         1.0           14850\n",
      "17005    0.0         1.0           17005\n",
      "15480    0.0         1.0           15480\n",
      "14626    0.0         1.0           14626\n",
      "\n",
      "\n",
      "Top 10 transactions having highest similarity with transaction ID = 30408 and class = 0.0:\n",
      "       Class  Similarity  Transaction ID\n",
      "18560    0.0         1.0           18560\n",
      "16101    0.0         1.0           16101\n",
      "16717    0.0         1.0           16717\n",
      "15231    0.0         1.0           15231\n",
      "18521    0.0         1.0           18521\n",
      "19469    0.0         1.0           19469\n",
      "19478    0.0         1.0           19478\n",
      "19072    0.0         1.0           19072\n",
      "19067    0.0         1.0           19067\n",
      "18656    0.0         1.0           18656\n",
      "\n",
      "\n",
      "Top 10 transactions having highest similarity with transaction ID = 30409 and class = 0.0:\n",
      "       Class  Similarity  Transaction ID\n",
      "17901    0.0         1.0           17901\n",
      "19047    0.0         1.0           19047\n",
      "16103    0.0         1.0           16103\n",
      "18032    0.0         1.0           18032\n",
      "15272    0.0         1.0           15272\n",
      "14894    0.0         1.0           14894\n",
      "16302    0.0         1.0           16302\n",
      "19628    0.0         1.0           19628\n",
      "15800    0.0         1.0           15800\n",
      "18129    0.0         1.0           18129\n",
      "\n",
      "\n",
      "Top 10 transactions having highest similarity with transaction ID = 30410 and class = 0.0:\n",
      "       Class  Similarity  Transaction ID\n",
      "19070    0.0         1.0           19070\n",
      "19956    0.0         1.0           19956\n",
      "14199    0.0         1.0           14199\n",
      "16376    0.0         1.0           16376\n",
      "12473    0.0         1.0           12473\n",
      "10719    0.0         1.0           10719\n",
      "13483    0.0         1.0           13483\n",
      "13757    0.0         1.0           13757\n",
      "10639    0.0         1.0           10639\n",
      "15691    0.0         1.0           15691\n",
      "\n",
      "\n",
      "Top 10 transactions having highest similarity with transaction ID = 30411 and class = 0.0:\n",
      "       Class  Similarity  Transaction ID\n",
      "16771    0.0         1.0           16771\n",
      "18398    0.0         1.0           18398\n",
      "17159    0.0         1.0           17159\n",
      "17956    0.0         1.0           17956\n",
      "17170    0.0         1.0           17170\n",
      "16628    0.0         1.0           16628\n",
      "17881    0.0         1.0           17881\n",
      "15946    0.0         1.0           15946\n",
      "16286    0.0         1.0           16286\n",
      "15982    0.0         1.0           15982\n",
      "\n",
      "\n",
      "Top 10 transactions having highest similarity with transaction ID = 30412 and class = 0.0:\n",
      "       Class  Similarity  Transaction ID\n",
      "14907    0.0         1.0           14907\n",
      "15054    0.0         1.0           15054\n",
      "18925    0.0         1.0           18925\n",
      "14647    0.0         1.0           14647\n",
      "14942    0.0         1.0           14942\n",
      "14350    0.0         1.0           14350\n",
      "17816    0.0         1.0           17816\n",
      "18260    0.0         1.0           18260\n",
      "15244    0.0         1.0           15244\n",
      "16040    0.0         1.0           16040\n",
      "\n",
      "\n",
      "Top 10 transactions having highest similarity with transaction ID = 30413 and class = 0.0:\n",
      "       Class  Similarity  Transaction ID\n",
      "16568    0.0         1.0           16568\n",
      "15575    0.0         1.0           15575\n",
      "17005    0.0         1.0           17005\n",
      "15528    0.0         1.0           15528\n",
      "19264    0.0         1.0           19264\n",
      "19459    0.0         1.0           19459\n",
      "18287    0.0         1.0           18287\n",
      "17890    0.0         1.0           17890\n",
      "18056    0.0         1.0           18056\n",
      "17811    0.0         1.0           17811\n",
      "\n",
      "\n",
      "Top 10 transactions having highest similarity with transaction ID = 30414 and class = 0.0:\n",
      "       Class  Similarity  Transaction ID\n",
      "16816    0.0         1.0           16816\n",
      "18611    0.0         1.0           18611\n",
      "18555    0.0         1.0           18555\n",
      "18886    0.0         1.0           18886\n",
      "18839    0.0         1.0           18839\n",
      "17060    0.0         1.0           17060\n",
      "19960    0.0         1.0           19960\n",
      "19296    0.0         1.0           19296\n",
      "15659    0.0         1.0           15659\n",
      "16612    0.0         1.0           16612\n",
      "\n",
      "\n",
      "Top 10 transactions having highest similarity with transaction ID = 30415 and class = 0.0:\n",
      "       Class  Similarity  Transaction ID\n",
      "14885    0.0         1.0           14885\n",
      "18634    0.0         1.0           18634\n",
      "15059    0.0         1.0           15059\n",
      "16975    0.0         1.0           16975\n",
      "18346    0.0         1.0           18346\n",
      "16124    0.0         1.0           16124\n",
      "19340    0.0         1.0           19340\n",
      "16846    0.0         1.0           16846\n",
      "17389    0.0         1.0           17389\n",
      "18123    0.0         1.0           18123\n",
      "\n",
      "\n",
      "Top 10 transactions having highest similarity with transaction ID = 30416 and class = 0.0:\n",
      "       Class  Similarity  Transaction ID\n",
      "19246    0.0         1.0           19246\n",
      "15639    0.0         1.0           15639\n",
      "16875    0.0         1.0           16875\n",
      "15322    0.0         1.0           15322\n",
      "18272    0.0         1.0           18272\n",
      "18696    0.0         1.0           18696\n",
      "18018    0.0         1.0           18018\n",
      "16193    0.0         1.0           16193\n",
      "15625    0.0         1.0           15625\n",
      "17719    0.0         1.0           17719\n",
      "\n",
      "\n",
      "Top 10 transactions having highest similarity with transaction ID = 30417 and class = 0.0:\n",
      "       Class  Similarity  Transaction ID\n",
      "18282    0.0         1.0           18282\n",
      "16276    0.0         1.0           16276\n",
      "19010    0.0         1.0           19010\n",
      "19241    0.0         1.0           19241\n",
      "14453    0.0         1.0           14453\n",
      "16129    0.0         1.0           16129\n",
      "17456    0.0         1.0           17456\n",
      "19496    0.0         1.0           19496\n",
      "16235    0.0         1.0           16235\n",
      "16518    0.0         1.0           16518\n",
      "\n",
      "\n",
      "Top 10 transactions having highest similarity with transaction ID = 30418 and class = 0.0:\n",
      "       Class  Similarity  Transaction ID\n",
      "18914    0.0         1.0           18914\n",
      "19552    0.0         1.0           19552\n",
      "16206    0.0         1.0           16206\n",
      "14957    0.0         1.0           14957\n",
      "16093    0.0         1.0           16093\n",
      "16156    0.0         1.0           16156\n",
      "18677    0.0         1.0           18677\n",
      "18012    0.0         1.0           18012\n",
      "15521    0.0         1.0           15521\n",
      "18116    0.0         1.0           18116\n",
      "\n",
      "\n",
      "Top 10 transactions having highest similarity with transaction ID = 30419 and class = 0.0:\n",
      "       Class  Similarity  Transaction ID\n",
      "19673    0.0         1.0           19673\n",
      "16465    0.0         1.0           16465\n",
      "14932    0.0         1.0           14932\n",
      "19029    0.0         1.0           19029\n",
      "17234    0.0         1.0           17234\n",
      "19542    0.0         1.0           19542\n",
      "19243    0.0         1.0           19243\n",
      "15124    0.0         1.0           15124\n",
      "15753    0.0         1.0           15753\n",
      "17815    0.0         1.0           17815\n",
      "\n",
      "\n",
      "Top 10 transactions having highest similarity with transaction ID = 30420 and class = 0.0:\n",
      "       Class  Similarity  Transaction ID\n",
      "15960    0.0         1.0           15960\n",
      "16035    0.0         1.0           16035\n",
      "19858    0.0         1.0           19858\n",
      "15867    0.0         1.0           15867\n",
      "18138    0.0         1.0           18138\n",
      "17860    0.0         1.0           17860\n",
      "19948    0.0         1.0           19948\n",
      "17556    0.0         1.0           17556\n",
      "17245    0.0         1.0           17245\n",
      "15461    0.0         1.0           15461\n",
      "\n",
      "\n",
      "Top 10 transactions having highest similarity with transaction ID = 30421 and class = 0.0:\n",
      "       Class  Similarity  Transaction ID\n",
      "16485    0.0         1.0           16485\n",
      "19321    0.0         1.0           19321\n",
      "19122    0.0         1.0           19122\n",
      "18484    0.0         1.0           18484\n",
      "18584    0.0         1.0           18584\n",
      "17241    0.0         1.0           17241\n",
      "17667    0.0         1.0           17667\n",
      "18195    0.0         1.0           18195\n",
      "17372    0.0         1.0           17372\n",
      "17978    0.0         1.0           17978\n",
      "\n",
      "\n",
      "Top 10 transactions having highest similarity with transaction ID = 30422 and class = 0.0:\n",
      "       Class  Similarity  Transaction ID\n",
      "16737    0.0         1.0           16737\n",
      "18460    0.0         1.0           18460\n",
      "19415    0.0         1.0           19415\n",
      "16823    0.0         1.0           16823\n",
      "19078    0.0         1.0           19078\n",
      "17519    0.0         1.0           17519\n",
      "16184    0.0         1.0           16184\n",
      "18356    0.0         1.0           18356\n",
      "19818    0.0         1.0           19818\n",
      "19130    0.0         1.0           19130\n",
      "\n",
      "\n",
      "Top 10 transactions having highest similarity with transaction ID = 30423 and class = 0.0:\n",
      "       Class  Similarity  Transaction ID\n",
      "15508    0.0         1.0           15508\n",
      "16085    0.0         1.0           16085\n",
      "16738    0.0         1.0           16738\n",
      "17126    0.0         1.0           17126\n",
      "15314    0.0         1.0           15314\n",
      "19678    0.0         1.0           19678\n",
      "18812    0.0         1.0           18812\n",
      "15672    0.0         1.0           15672\n",
      "14395    0.0         1.0           14395\n",
      "15167    0.0         1.0           15167\n",
      "\n",
      "\n",
      "Top 10 transactions having highest similarity with transaction ID = 30424 and class = 0.0:\n",
      "       Class  Similarity  Transaction ID\n",
      "17131    0.0         1.0           17131\n",
      "15684    0.0         1.0           15684\n",
      "15716    0.0         1.0           15716\n",
      "16917    0.0         1.0           16917\n",
      "16283    0.0         1.0           16283\n",
      "14191    0.0         1.0           14191\n",
      "19746    0.0         1.0           19746\n",
      "16761    0.0         1.0           16761\n",
      "19853    0.0         1.0           19853\n",
      "18956    0.0         1.0           18956\n",
      "\n",
      "\n",
      "Top 10 transactions having highest similarity with transaction ID = 30425 and class = 0.0:\n",
      "       Class  Similarity  Transaction ID\n",
      "19886    0.0         1.0           19886\n",
      "14410    0.0         1.0           14410\n",
      "14599    0.0         1.0           14599\n",
      "18441    0.0         1.0           18441\n",
      "14577    0.0         1.0           14577\n",
      "14499    0.0         1.0           14499\n",
      "14470    0.0         1.0           14470\n",
      "18583    0.0         1.0           18583\n",
      "18037    0.0         1.0           18037\n",
      "14594    0.0         1.0           14594\n",
      "\n",
      "\n",
      "Top 10 transactions having highest similarity with transaction ID = 30426 and class = 0.0:\n",
      "       Class  Similarity  Transaction ID\n",
      "16646    0.0         1.0           16646\n",
      "17902    0.0         1.0           17902\n",
      "16874    0.0         1.0           16874\n",
      "14452    0.0         1.0           14452\n",
      "15918    0.0         1.0           15918\n",
      "19352    0.0         1.0           19352\n",
      "19113    0.0         1.0           19113\n",
      "18940    0.0         1.0           18940\n",
      "14885    0.0         1.0           14885\n",
      "17775    0.0         1.0           17775\n",
      "\n",
      "\n",
      "Top 10 transactions having highest similarity with transaction ID = 30427 and class = 0.0:\n",
      "       Class  Similarity  Transaction ID\n",
      "18724    0.0         1.0           18724\n",
      "19322    0.0         1.0           19322\n",
      "14993    0.0         1.0           14993\n",
      "19612    0.0         1.0           19612\n",
      "18193    0.0         1.0           18193\n",
      "18186    0.0         1.0           18186\n",
      "14911    0.0         1.0           14911\n",
      "15911    0.0         1.0           15911\n",
      "18518    0.0         1.0           18518\n",
      "19247    0.0         1.0           19247\n",
      "\n",
      "\n",
      "Top 10 transactions having highest similarity with transaction ID = 30428 and class = 0.0:\n",
      "       Class  Similarity  Transaction ID\n",
      "19195    0.0         1.0           19195\n",
      "19046    0.0         1.0           19046\n",
      "14478    0.0         1.0           14478\n",
      "15750    0.0         1.0           15750\n",
      "18065    0.0         1.0           18065\n",
      "19756    0.0         1.0           19756\n",
      "18203    0.0         1.0           18203\n",
      "19166    0.0         1.0           19166\n",
      "16667    0.0         1.0           16667\n",
      "16416    0.0         1.0           16416\n",
      "\n",
      "\n",
      "Top 10 transactions having highest similarity with transaction ID = 30429 and class = 0.0:\n",
      "       Class  Similarity  Transaction ID\n",
      "15684    0.0         1.0           15684\n",
      "19853    0.0         1.0           19853\n",
      "17131    0.0         1.0           17131\n",
      "16164    0.0         1.0           16164\n",
      "18776    0.0         1.0           18776\n",
      "19162    0.0         1.0           19162\n",
      "16917    0.0         1.0           16917\n",
      "19823    0.0         1.0           19823\n",
      "15716    0.0         1.0           15716\n",
      "16761    0.0         1.0           16761\n",
      "\n",
      "\n",
      "Top 10 transactions having highest similarity with transaction ID = 30430 and class = 0.0:\n",
      "       Class  Similarity  Transaction ID\n",
      "16278    0.0         1.0           16278\n",
      "18854    0.0         1.0           18854\n",
      "15324    0.0         1.0           15324\n",
      "15423    0.0         1.0           15423\n",
      "17773    0.0         1.0           17773\n",
      "16386    0.0         1.0           16386\n",
      "17269    0.0         1.0           17269\n",
      "19621    0.0         1.0           19621\n",
      "18572    0.0         1.0           18572\n",
      "17353    0.0         1.0           17353\n",
      "\n",
      "\n",
      "Top 10 transactions having highest similarity with transaction ID = 30431 and class = 0.0:\n",
      "       Class  Similarity  Transaction ID\n",
      "19791    0.0         1.0           19791\n",
      "19671    0.0         1.0           19671\n",
      "18130    0.0         1.0           18130\n",
      "15494    0.0         1.0           15494\n",
      "19592    0.0         1.0           19592\n",
      "18478    0.0         1.0           18478\n",
      "15518    0.0         1.0           15518\n",
      "17633    0.0         1.0           17633\n",
      "16288    0.0         1.0           16288\n",
      "17655    0.0         1.0           17655\n",
      "\n",
      "\n",
      "Top 10 transactions having highest similarity with transaction ID = 30432 and class = 0.0:\n",
      "       Class  Similarity  Transaction ID\n",
      "19617    0.0         1.0           19617\n",
      "19616    0.0         1.0           19616\n",
      "16314    0.0         1.0           16314\n",
      "19270    0.0         1.0           19270\n",
      "14706    0.0         1.0           14706\n",
      "16334    0.0         1.0           16334\n",
      "18889    0.0         1.0           18889\n",
      "18163    0.0         1.0           18163\n",
      "14526    0.0         1.0           14526\n",
      "15789    0.0         1.0           15789\n",
      "\n",
      "\n"
     ]
    }
   ],
   "source": [
    "for i in range(30401, 30501):\n",
    "    t1 = samples.loc[i]\n",
    "    c = samples.loc[i][\"Class\"]\n",
    "    for j in range(20000):\n",
    "        t2 = sampleData.loc[j]\n",
    "        classLabel = Creditcard.loc[j][\"Class\"]\n",
    "        similarity = 1 - spatial.distance.cosine(t1, t2)\n",
    "        frame.append([classLabel, similarity, j])\n",
    "        \n",
    "    df = pd.DataFrame(frame, columns=['Class', 'Similarity', 'Transaction ID'])\n",
    "    df_sorted = df.sort_values(\"Similarity\", ascending=False)\n",
    "    print(\"Top 10 transactions having highest similarity with transaction ID = \"+str(i)+\" and class = \"+str(c)+\":\")\n",
    "    print(df_sorted.iloc[:10])\n",
    "    print(\"\\n\")\n",
    "    frame = []\n"
   ]
  },
  {
   "cell_type": "code",
   "execution_count": null,
   "metadata": {},
   "outputs": [],
   "source": []
  }
 ],
 "metadata": {
  "kernelspec": {
   "display_name": "Python 3",
   "language": "python",
   "name": "python3"
  },
  "language_info": {
   "codemirror_mode": {
    "name": "ipython",
    "version": 3
   },
   "file_extension": ".py",
   "mimetype": "text/x-python",
   "name": "python",
   "nbconvert_exporter": "python",
   "pygments_lexer": "ipython3",
   "version": "3.7.4"
  }
 },
 "nbformat": 4,
 "nbformat_minor": 2
}
